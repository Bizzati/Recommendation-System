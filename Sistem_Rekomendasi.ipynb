{
  "nbformat": 4,
  "nbformat_minor": 0,
  "metadata": {
    "colab": {
      "provenance": []
    },
    "kernelspec": {
      "name": "python3",
      "display_name": "Python 3"
    },
    "language_info": {
      "name": "python"
    }
  },
  "cells": [
    {
      "cell_type": "markdown",
      "metadata": {
        "id": "H9wADwK78DCz"
      },
      "source": [
        "# Proyek Predictive Analysis: Membuat Model Sistem Rekomendasi\n",
        "\n",
        "- **Nama:** Bizzati Hanif Raushan Fikri\n",
        "- **Email:** bizzhanif@gmail.com\n",
        "- **ID Dicoding:** MC006D5Y1740\n",
        "\n",
        "\n",
        "- Dataset source : https://www.kaggle.com/datasets/CooperUnion/anime-recommendations-database?select=rating.csv"
      ]
    },
    {
      "cell_type": "markdown",
      "source": [
        "## **Domain Proyek**\n",
        "\n",
        "Dataset yang digunakan berisikan informasi preferensi user dengan total 73.516 user terhadap 12.294 anime, data tersebut diambil dari website [myanimelist.net](https://myanimelist.net/) yang merupakan website katalog online yang berisi informasi tentang anime dan manga, yang memungkinkan pengguna untuk membuat daftar, menilai, dan membagikan pendapat mereka tentang anime dan manga. Tujuan dari proyek ini adalah untuk membuat sistem rekomendasi bagi penggemar anime untuk membantu mereka dalam mencari judul-judul baru sesuai preferensi."
      ],
      "metadata": {
        "id": "tqkdvVumchP_"
      }
    },
    {
      "cell_type": "markdown",
      "source": [
        "## Library"
      ],
      "metadata": {
        "id": "DD8QrGBXb350"
      }
    },
    {
      "cell_type": "code",
      "source": [
        "!pip install -q kaggle"
      ],
      "metadata": {
        "id": "hONJlrKJ8H9t"
      },
      "execution_count": 1,
      "outputs": []
    },
    {
      "cell_type": "code",
      "source": [
        "import pandas as pd\n",
        "import numpy as np\n",
        "import matplotlib.pyplot as plt\n",
        "from google.colab import files\n",
        "\n",
        "import re\n",
        "from sklearn.feature_extraction.text import TfidfVectorizer\n",
        "from sklearn.metrics.pairwise import cosine_similarity"
      ],
      "metadata": {
        "id": "GkAa68j6b4LU"
      },
      "execution_count": 2,
      "outputs": []
    },
    {
      "cell_type": "markdown",
      "source": [
        "## **Data Understanding**"
      ],
      "metadata": {
        "id": "sqaBpr2FqnsN"
      }
    },
    {
      "cell_type": "markdown",
      "source": [
        "### Memuat Data"
      ],
      "metadata": {
        "id": "JqQHcYaCAMIn"
      }
    },
    {
      "cell_type": "markdown",
      "source": [
        "Ambil dataset dari database kaggle (API kaggle dapat disesuaikan)"
      ],
      "metadata": {
        "id": "u5Mwtcq27WN-"
      }
    },
    {
      "cell_type": "code",
      "source": [
        "!rm -rf ~/.kaggle\n",
        "\n",
        "from google.colab import files\n",
        "print(\"Upload file kaggle.json Anda\")\n",
        "files.upload()\n",
        "\n",
        "!mkdir -p ~/.kaggle\n",
        "!cp kaggle.json ~/.kaggle/\n",
        "!chmod 600 ~/.kaggle/kaggle.json\n",
        "\n",
        "!kaggle datasets download -d CooperUnion/anime-recommendations-database\n",
        "!unzip -q anime-recommendations-database.zip -d anime_dataset\n",
        "\n",
        "!ls anime_dataset"
      ],
      "metadata": {
        "colab": {
          "base_uri": "https://localhost:8080/",
          "height": 201
        },
        "id": "MYEtVCJc7WqS",
        "outputId": "b82ed3b2-7f06-4135-e1fc-36c04e299265"
      },
      "execution_count": 3,
      "outputs": [
        {
          "output_type": "stream",
          "name": "stdout",
          "text": [
            "Upload file kaggle.json Anda\n"
          ]
        },
        {
          "output_type": "display_data",
          "data": {
            "text/plain": [
              "<IPython.core.display.HTML object>"
            ],
            "text/html": [
              "\n",
              "     <input type=\"file\" id=\"files-6d9ab6d7-d5e0-4007-b763-c5e59f24539f\" name=\"files[]\" multiple disabled\n",
              "        style=\"border:none\" />\n",
              "     <output id=\"result-6d9ab6d7-d5e0-4007-b763-c5e59f24539f\">\n",
              "      Upload widget is only available when the cell has been executed in the\n",
              "      current browser session. Please rerun this cell to enable.\n",
              "      </output>\n",
              "      <script>// Copyright 2017 Google LLC\n",
              "//\n",
              "// Licensed under the Apache License, Version 2.0 (the \"License\");\n",
              "// you may not use this file except in compliance with the License.\n",
              "// You may obtain a copy of the License at\n",
              "//\n",
              "//      http://www.apache.org/licenses/LICENSE-2.0\n",
              "//\n",
              "// Unless required by applicable law or agreed to in writing, software\n",
              "// distributed under the License is distributed on an \"AS IS\" BASIS,\n",
              "// WITHOUT WARRANTIES OR CONDITIONS OF ANY KIND, either express or implied.\n",
              "// See the License for the specific language governing permissions and\n",
              "// limitations under the License.\n",
              "\n",
              "/**\n",
              " * @fileoverview Helpers for google.colab Python module.\n",
              " */\n",
              "(function(scope) {\n",
              "function span(text, styleAttributes = {}) {\n",
              "  const element = document.createElement('span');\n",
              "  element.textContent = text;\n",
              "  for (const key of Object.keys(styleAttributes)) {\n",
              "    element.style[key] = styleAttributes[key];\n",
              "  }\n",
              "  return element;\n",
              "}\n",
              "\n",
              "// Max number of bytes which will be uploaded at a time.\n",
              "const MAX_PAYLOAD_SIZE = 100 * 1024;\n",
              "\n",
              "function _uploadFiles(inputId, outputId) {\n",
              "  const steps = uploadFilesStep(inputId, outputId);\n",
              "  const outputElement = document.getElementById(outputId);\n",
              "  // Cache steps on the outputElement to make it available for the next call\n",
              "  // to uploadFilesContinue from Python.\n",
              "  outputElement.steps = steps;\n",
              "\n",
              "  return _uploadFilesContinue(outputId);\n",
              "}\n",
              "\n",
              "// This is roughly an async generator (not supported in the browser yet),\n",
              "// where there are multiple asynchronous steps and the Python side is going\n",
              "// to poll for completion of each step.\n",
              "// This uses a Promise to block the python side on completion of each step,\n",
              "// then passes the result of the previous step as the input to the next step.\n",
              "function _uploadFilesContinue(outputId) {\n",
              "  const outputElement = document.getElementById(outputId);\n",
              "  const steps = outputElement.steps;\n",
              "\n",
              "  const next = steps.next(outputElement.lastPromiseValue);\n",
              "  return Promise.resolve(next.value.promise).then((value) => {\n",
              "    // Cache the last promise value to make it available to the next\n",
              "    // step of the generator.\n",
              "    outputElement.lastPromiseValue = value;\n",
              "    return next.value.response;\n",
              "  });\n",
              "}\n",
              "\n",
              "/**\n",
              " * Generator function which is called between each async step of the upload\n",
              " * process.\n",
              " * @param {string} inputId Element ID of the input file picker element.\n",
              " * @param {string} outputId Element ID of the output display.\n",
              " * @return {!Iterable<!Object>} Iterable of next steps.\n",
              " */\n",
              "function* uploadFilesStep(inputId, outputId) {\n",
              "  const inputElement = document.getElementById(inputId);\n",
              "  inputElement.disabled = false;\n",
              "\n",
              "  const outputElement = document.getElementById(outputId);\n",
              "  outputElement.innerHTML = '';\n",
              "\n",
              "  const pickedPromise = new Promise((resolve) => {\n",
              "    inputElement.addEventListener('change', (e) => {\n",
              "      resolve(e.target.files);\n",
              "    });\n",
              "  });\n",
              "\n",
              "  const cancel = document.createElement('button');\n",
              "  inputElement.parentElement.appendChild(cancel);\n",
              "  cancel.textContent = 'Cancel upload';\n",
              "  const cancelPromise = new Promise((resolve) => {\n",
              "    cancel.onclick = () => {\n",
              "      resolve(null);\n",
              "    };\n",
              "  });\n",
              "\n",
              "  // Wait for the user to pick the files.\n",
              "  const files = yield {\n",
              "    promise: Promise.race([pickedPromise, cancelPromise]),\n",
              "    response: {\n",
              "      action: 'starting',\n",
              "    }\n",
              "  };\n",
              "\n",
              "  cancel.remove();\n",
              "\n",
              "  // Disable the input element since further picks are not allowed.\n",
              "  inputElement.disabled = true;\n",
              "\n",
              "  if (!files) {\n",
              "    return {\n",
              "      response: {\n",
              "        action: 'complete',\n",
              "      }\n",
              "    };\n",
              "  }\n",
              "\n",
              "  for (const file of files) {\n",
              "    const li = document.createElement('li');\n",
              "    li.append(span(file.name, {fontWeight: 'bold'}));\n",
              "    li.append(span(\n",
              "        `(${file.type || 'n/a'}) - ${file.size} bytes, ` +\n",
              "        `last modified: ${\n",
              "            file.lastModifiedDate ? file.lastModifiedDate.toLocaleDateString() :\n",
              "                                    'n/a'} - `));\n",
              "    const percent = span('0% done');\n",
              "    li.appendChild(percent);\n",
              "\n",
              "    outputElement.appendChild(li);\n",
              "\n",
              "    const fileDataPromise = new Promise((resolve) => {\n",
              "      const reader = new FileReader();\n",
              "      reader.onload = (e) => {\n",
              "        resolve(e.target.result);\n",
              "      };\n",
              "      reader.readAsArrayBuffer(file);\n",
              "    });\n",
              "    // Wait for the data to be ready.\n",
              "    let fileData = yield {\n",
              "      promise: fileDataPromise,\n",
              "      response: {\n",
              "        action: 'continue',\n",
              "      }\n",
              "    };\n",
              "\n",
              "    // Use a chunked sending to avoid message size limits. See b/62115660.\n",
              "    let position = 0;\n",
              "    do {\n",
              "      const length = Math.min(fileData.byteLength - position, MAX_PAYLOAD_SIZE);\n",
              "      const chunk = new Uint8Array(fileData, position, length);\n",
              "      position += length;\n",
              "\n",
              "      const base64 = btoa(String.fromCharCode.apply(null, chunk));\n",
              "      yield {\n",
              "        response: {\n",
              "          action: 'append',\n",
              "          file: file.name,\n",
              "          data: base64,\n",
              "        },\n",
              "      };\n",
              "\n",
              "      let percentDone = fileData.byteLength === 0 ?\n",
              "          100 :\n",
              "          Math.round((position / fileData.byteLength) * 100);\n",
              "      percent.textContent = `${percentDone}% done`;\n",
              "\n",
              "    } while (position < fileData.byteLength);\n",
              "  }\n",
              "\n",
              "  // All done.\n",
              "  yield {\n",
              "    response: {\n",
              "      action: 'complete',\n",
              "    }\n",
              "  };\n",
              "}\n",
              "\n",
              "scope.google = scope.google || {};\n",
              "scope.google.colab = scope.google.colab || {};\n",
              "scope.google.colab._files = {\n",
              "  _uploadFiles,\n",
              "  _uploadFilesContinue,\n",
              "};\n",
              "})(self);\n",
              "</script> "
            ]
          },
          "metadata": {}
        },
        {
          "output_type": "stream",
          "name": "stdout",
          "text": [
            "Saving kaggle.json to kaggle.json\n",
            "Dataset URL: https://www.kaggle.com/datasets/CooperUnion/anime-recommendations-database\n",
            "License(s): CC0-1.0\n",
            "Downloading anime-recommendations-database.zip to /content\n",
            "  0% 0.00/25.0M [00:00<?, ?B/s]\n",
            "100% 25.0M/25.0M [00:00<00:00, 794MB/s]\n",
            "anime.csv  rating.csv\n"
          ]
        }
      ]
    },
    {
      "cell_type": "markdown",
      "source": [
        "Load & cek kebenaran data dari kedua csv (`anime.csv` dan `rating.csv`)"
      ],
      "metadata": {
        "id": "iFIryqJL_Q7T"
      }
    },
    {
      "cell_type": "code",
      "source": [
        "anime = pd.read_csv(\"anime_dataset/anime.csv\")\n",
        "ratings = pd.read_csv(\"anime_dataset/rating.csv\")\n",
        "\n",
        "print(\"\\n Anime DataFrame Info:\")\n",
        "print(anime.info())\n",
        "anime.head()"
      ],
      "metadata": {
        "colab": {
          "base_uri": "https://localhost:8080/",
          "height": 516
        },
        "id": "Imun8CPl7eq5",
        "outputId": "96bae70a-039e-4c76-d2f2-056bf924edb2"
      },
      "execution_count": 4,
      "outputs": [
        {
          "output_type": "stream",
          "name": "stdout",
          "text": [
            "\n",
            " Anime DataFrame Info:\n",
            "<class 'pandas.core.frame.DataFrame'>\n",
            "RangeIndex: 12294 entries, 0 to 12293\n",
            "Data columns (total 7 columns):\n",
            " #   Column    Non-Null Count  Dtype  \n",
            "---  ------    --------------  -----  \n",
            " 0   anime_id  12294 non-null  int64  \n",
            " 1   name      12294 non-null  object \n",
            " 2   genre     12232 non-null  object \n",
            " 3   type      12269 non-null  object \n",
            " 4   episodes  12294 non-null  object \n",
            " 5   rating    12064 non-null  float64\n",
            " 6   members   12294 non-null  int64  \n",
            "dtypes: float64(1), int64(2), object(4)\n",
            "memory usage: 672.5+ KB\n",
            "None\n"
          ]
        },
        {
          "output_type": "execute_result",
          "data": {
            "text/plain": [
              "   anime_id                              name  \\\n",
              "0     32281                    Kimi no Na wa.   \n",
              "1      5114  Fullmetal Alchemist: Brotherhood   \n",
              "2     28977                          Gintama°   \n",
              "3      9253                       Steins;Gate   \n",
              "4      9969                     Gintama&#039;   \n",
              "\n",
              "                                               genre   type episodes  rating  \\\n",
              "0               Drama, Romance, School, Supernatural  Movie        1    9.37   \n",
              "1  Action, Adventure, Drama, Fantasy, Magic, Mili...     TV       64    9.26   \n",
              "2  Action, Comedy, Historical, Parody, Samurai, S...     TV       51    9.25   \n",
              "3                                   Sci-Fi, Thriller     TV       24    9.17   \n",
              "4  Action, Comedy, Historical, Parody, Samurai, S...     TV       51    9.16   \n",
              "\n",
              "   members  \n",
              "0   200630  \n",
              "1   793665  \n",
              "2   114262  \n",
              "3   673572  \n",
              "4   151266  "
            ],
            "text/html": [
              "\n",
              "  <div id=\"df-a098429b-bd4d-4530-89c2-f63f0e4344b6\" class=\"colab-df-container\">\n",
              "    <div>\n",
              "<style scoped>\n",
              "    .dataframe tbody tr th:only-of-type {\n",
              "        vertical-align: middle;\n",
              "    }\n",
              "\n",
              "    .dataframe tbody tr th {\n",
              "        vertical-align: top;\n",
              "    }\n",
              "\n",
              "    .dataframe thead th {\n",
              "        text-align: right;\n",
              "    }\n",
              "</style>\n",
              "<table border=\"1\" class=\"dataframe\">\n",
              "  <thead>\n",
              "    <tr style=\"text-align: right;\">\n",
              "      <th></th>\n",
              "      <th>anime_id</th>\n",
              "      <th>name</th>\n",
              "      <th>genre</th>\n",
              "      <th>type</th>\n",
              "      <th>episodes</th>\n",
              "      <th>rating</th>\n",
              "      <th>members</th>\n",
              "    </tr>\n",
              "  </thead>\n",
              "  <tbody>\n",
              "    <tr>\n",
              "      <th>0</th>\n",
              "      <td>32281</td>\n",
              "      <td>Kimi no Na wa.</td>\n",
              "      <td>Drama, Romance, School, Supernatural</td>\n",
              "      <td>Movie</td>\n",
              "      <td>1</td>\n",
              "      <td>9.37</td>\n",
              "      <td>200630</td>\n",
              "    </tr>\n",
              "    <tr>\n",
              "      <th>1</th>\n",
              "      <td>5114</td>\n",
              "      <td>Fullmetal Alchemist: Brotherhood</td>\n",
              "      <td>Action, Adventure, Drama, Fantasy, Magic, Mili...</td>\n",
              "      <td>TV</td>\n",
              "      <td>64</td>\n",
              "      <td>9.26</td>\n",
              "      <td>793665</td>\n",
              "    </tr>\n",
              "    <tr>\n",
              "      <th>2</th>\n",
              "      <td>28977</td>\n",
              "      <td>Gintama°</td>\n",
              "      <td>Action, Comedy, Historical, Parody, Samurai, S...</td>\n",
              "      <td>TV</td>\n",
              "      <td>51</td>\n",
              "      <td>9.25</td>\n",
              "      <td>114262</td>\n",
              "    </tr>\n",
              "    <tr>\n",
              "      <th>3</th>\n",
              "      <td>9253</td>\n",
              "      <td>Steins;Gate</td>\n",
              "      <td>Sci-Fi, Thriller</td>\n",
              "      <td>TV</td>\n",
              "      <td>24</td>\n",
              "      <td>9.17</td>\n",
              "      <td>673572</td>\n",
              "    </tr>\n",
              "    <tr>\n",
              "      <th>4</th>\n",
              "      <td>9969</td>\n",
              "      <td>Gintama&amp;#039;</td>\n",
              "      <td>Action, Comedy, Historical, Parody, Samurai, S...</td>\n",
              "      <td>TV</td>\n",
              "      <td>51</td>\n",
              "      <td>9.16</td>\n",
              "      <td>151266</td>\n",
              "    </tr>\n",
              "  </tbody>\n",
              "</table>\n",
              "</div>\n",
              "    <div class=\"colab-df-buttons\">\n",
              "\n",
              "  <div class=\"colab-df-container\">\n",
              "    <button class=\"colab-df-convert\" onclick=\"convertToInteractive('df-a098429b-bd4d-4530-89c2-f63f0e4344b6')\"\n",
              "            title=\"Convert this dataframe to an interactive table.\"\n",
              "            style=\"display:none;\">\n",
              "\n",
              "  <svg xmlns=\"http://www.w3.org/2000/svg\" height=\"24px\" viewBox=\"0 -960 960 960\">\n",
              "    <path d=\"M120-120v-720h720v720H120Zm60-500h600v-160H180v160Zm220 220h160v-160H400v160Zm0 220h160v-160H400v160ZM180-400h160v-160H180v160Zm440 0h160v-160H620v160ZM180-180h160v-160H180v160Zm440 0h160v-160H620v160Z\"/>\n",
              "  </svg>\n",
              "    </button>\n",
              "\n",
              "  <style>\n",
              "    .colab-df-container {\n",
              "      display:flex;\n",
              "      gap: 12px;\n",
              "    }\n",
              "\n",
              "    .colab-df-convert {\n",
              "      background-color: #E8F0FE;\n",
              "      border: none;\n",
              "      border-radius: 50%;\n",
              "      cursor: pointer;\n",
              "      display: none;\n",
              "      fill: #1967D2;\n",
              "      height: 32px;\n",
              "      padding: 0 0 0 0;\n",
              "      width: 32px;\n",
              "    }\n",
              "\n",
              "    .colab-df-convert:hover {\n",
              "      background-color: #E2EBFA;\n",
              "      box-shadow: 0px 1px 2px rgba(60, 64, 67, 0.3), 0px 1px 3px 1px rgba(60, 64, 67, 0.15);\n",
              "      fill: #174EA6;\n",
              "    }\n",
              "\n",
              "    .colab-df-buttons div {\n",
              "      margin-bottom: 4px;\n",
              "    }\n",
              "\n",
              "    [theme=dark] .colab-df-convert {\n",
              "      background-color: #3B4455;\n",
              "      fill: #D2E3FC;\n",
              "    }\n",
              "\n",
              "    [theme=dark] .colab-df-convert:hover {\n",
              "      background-color: #434B5C;\n",
              "      box-shadow: 0px 1px 3px 1px rgba(0, 0, 0, 0.15);\n",
              "      filter: drop-shadow(0px 1px 2px rgba(0, 0, 0, 0.3));\n",
              "      fill: #FFFFFF;\n",
              "    }\n",
              "  </style>\n",
              "\n",
              "    <script>\n",
              "      const buttonEl =\n",
              "        document.querySelector('#df-a098429b-bd4d-4530-89c2-f63f0e4344b6 button.colab-df-convert');\n",
              "      buttonEl.style.display =\n",
              "        google.colab.kernel.accessAllowed ? 'block' : 'none';\n",
              "\n",
              "      async function convertToInteractive(key) {\n",
              "        const element = document.querySelector('#df-a098429b-bd4d-4530-89c2-f63f0e4344b6');\n",
              "        const dataTable =\n",
              "          await google.colab.kernel.invokeFunction('convertToInteractive',\n",
              "                                                    [key], {});\n",
              "        if (!dataTable) return;\n",
              "\n",
              "        const docLinkHtml = 'Like what you see? Visit the ' +\n",
              "          '<a target=\"_blank\" href=https://colab.research.google.com/notebooks/data_table.ipynb>data table notebook</a>'\n",
              "          + ' to learn more about interactive tables.';\n",
              "        element.innerHTML = '';\n",
              "        dataTable['output_type'] = 'display_data';\n",
              "        await google.colab.output.renderOutput(dataTable, element);\n",
              "        const docLink = document.createElement('div');\n",
              "        docLink.innerHTML = docLinkHtml;\n",
              "        element.appendChild(docLink);\n",
              "      }\n",
              "    </script>\n",
              "  </div>\n",
              "\n",
              "\n",
              "    <div id=\"df-0b4539a2-3e8d-40b8-b7bf-4e027a6251fb\">\n",
              "      <button class=\"colab-df-quickchart\" onclick=\"quickchart('df-0b4539a2-3e8d-40b8-b7bf-4e027a6251fb')\"\n",
              "                title=\"Suggest charts\"\n",
              "                style=\"display:none;\">\n",
              "\n",
              "<svg xmlns=\"http://www.w3.org/2000/svg\" height=\"24px\"viewBox=\"0 0 24 24\"\n",
              "     width=\"24px\">\n",
              "    <g>\n",
              "        <path d=\"M19 3H5c-1.1 0-2 .9-2 2v14c0 1.1.9 2 2 2h14c1.1 0 2-.9 2-2V5c0-1.1-.9-2-2-2zM9 17H7v-7h2v7zm4 0h-2V7h2v10zm4 0h-2v-4h2v4z\"/>\n",
              "    </g>\n",
              "</svg>\n",
              "      </button>\n",
              "\n",
              "<style>\n",
              "  .colab-df-quickchart {\n",
              "      --bg-color: #E8F0FE;\n",
              "      --fill-color: #1967D2;\n",
              "      --hover-bg-color: #E2EBFA;\n",
              "      --hover-fill-color: #174EA6;\n",
              "      --disabled-fill-color: #AAA;\n",
              "      --disabled-bg-color: #DDD;\n",
              "  }\n",
              "\n",
              "  [theme=dark] .colab-df-quickchart {\n",
              "      --bg-color: #3B4455;\n",
              "      --fill-color: #D2E3FC;\n",
              "      --hover-bg-color: #434B5C;\n",
              "      --hover-fill-color: #FFFFFF;\n",
              "      --disabled-bg-color: #3B4455;\n",
              "      --disabled-fill-color: #666;\n",
              "  }\n",
              "\n",
              "  .colab-df-quickchart {\n",
              "    background-color: var(--bg-color);\n",
              "    border: none;\n",
              "    border-radius: 50%;\n",
              "    cursor: pointer;\n",
              "    display: none;\n",
              "    fill: var(--fill-color);\n",
              "    height: 32px;\n",
              "    padding: 0;\n",
              "    width: 32px;\n",
              "  }\n",
              "\n",
              "  .colab-df-quickchart:hover {\n",
              "    background-color: var(--hover-bg-color);\n",
              "    box-shadow: 0 1px 2px rgba(60, 64, 67, 0.3), 0 1px 3px 1px rgba(60, 64, 67, 0.15);\n",
              "    fill: var(--button-hover-fill-color);\n",
              "  }\n",
              "\n",
              "  .colab-df-quickchart-complete:disabled,\n",
              "  .colab-df-quickchart-complete:disabled:hover {\n",
              "    background-color: var(--disabled-bg-color);\n",
              "    fill: var(--disabled-fill-color);\n",
              "    box-shadow: none;\n",
              "  }\n",
              "\n",
              "  .colab-df-spinner {\n",
              "    border: 2px solid var(--fill-color);\n",
              "    border-color: transparent;\n",
              "    border-bottom-color: var(--fill-color);\n",
              "    animation:\n",
              "      spin 1s steps(1) infinite;\n",
              "  }\n",
              "\n",
              "  @keyframes spin {\n",
              "    0% {\n",
              "      border-color: transparent;\n",
              "      border-bottom-color: var(--fill-color);\n",
              "      border-left-color: var(--fill-color);\n",
              "    }\n",
              "    20% {\n",
              "      border-color: transparent;\n",
              "      border-left-color: var(--fill-color);\n",
              "      border-top-color: var(--fill-color);\n",
              "    }\n",
              "    30% {\n",
              "      border-color: transparent;\n",
              "      border-left-color: var(--fill-color);\n",
              "      border-top-color: var(--fill-color);\n",
              "      border-right-color: var(--fill-color);\n",
              "    }\n",
              "    40% {\n",
              "      border-color: transparent;\n",
              "      border-right-color: var(--fill-color);\n",
              "      border-top-color: var(--fill-color);\n",
              "    }\n",
              "    60% {\n",
              "      border-color: transparent;\n",
              "      border-right-color: var(--fill-color);\n",
              "    }\n",
              "    80% {\n",
              "      border-color: transparent;\n",
              "      border-right-color: var(--fill-color);\n",
              "      border-bottom-color: var(--fill-color);\n",
              "    }\n",
              "    90% {\n",
              "      border-color: transparent;\n",
              "      border-bottom-color: var(--fill-color);\n",
              "    }\n",
              "  }\n",
              "</style>\n",
              "\n",
              "      <script>\n",
              "        async function quickchart(key) {\n",
              "          const quickchartButtonEl =\n",
              "            document.querySelector('#' + key + ' button');\n",
              "          quickchartButtonEl.disabled = true;  // To prevent multiple clicks.\n",
              "          quickchartButtonEl.classList.add('colab-df-spinner');\n",
              "          try {\n",
              "            const charts = await google.colab.kernel.invokeFunction(\n",
              "                'suggestCharts', [key], {});\n",
              "          } catch (error) {\n",
              "            console.error('Error during call to suggestCharts:', error);\n",
              "          }\n",
              "          quickchartButtonEl.classList.remove('colab-df-spinner');\n",
              "          quickchartButtonEl.classList.add('colab-df-quickchart-complete');\n",
              "        }\n",
              "        (() => {\n",
              "          let quickchartButtonEl =\n",
              "            document.querySelector('#df-0b4539a2-3e8d-40b8-b7bf-4e027a6251fb button');\n",
              "          quickchartButtonEl.style.display =\n",
              "            google.colab.kernel.accessAllowed ? 'block' : 'none';\n",
              "        })();\n",
              "      </script>\n",
              "    </div>\n",
              "\n",
              "    </div>\n",
              "  </div>\n"
            ],
            "application/vnd.google.colaboratory.intrinsic+json": {
              "type": "dataframe",
              "variable_name": "anime",
              "summary": "{\n  \"name\": \"anime\",\n  \"rows\": 12294,\n  \"fields\": [\n    {\n      \"column\": \"anime_id\",\n      \"properties\": {\n        \"dtype\": \"number\",\n        \"std\": 11455,\n        \"min\": 1,\n        \"max\": 34527,\n        \"num_unique_values\": 12294,\n        \"samples\": [\n          17209,\n          173,\n          3616\n        ],\n        \"semantic_type\": \"\",\n        \"description\": \"\"\n      }\n    },\n    {\n      \"column\": \"name\",\n      \"properties\": {\n        \"dtype\": \"string\",\n        \"num_unique_values\": 12292,\n        \"samples\": [\n          \"Nils no Fushigi na Tabi (Movie)\",\n          \"Tactics\",\n          \"Kamen no Maid Guy\"\n        ],\n        \"semantic_type\": \"\",\n        \"description\": \"\"\n      }\n    },\n    {\n      \"column\": \"genre\",\n      \"properties\": {\n        \"dtype\": \"category\",\n        \"num_unique_values\": 3264,\n        \"samples\": [\n          \"Horror, Supernatural\",\n          \"Action, Adventure, Comedy, Demons, Fantasy, Magic, Romance, Shounen, Supernatural\",\n          \"Action, Comedy, Harem, Parody, Romance\"\n        ],\n        \"semantic_type\": \"\",\n        \"description\": \"\"\n      }\n    },\n    {\n      \"column\": \"type\",\n      \"properties\": {\n        \"dtype\": \"category\",\n        \"num_unique_values\": 6,\n        \"samples\": [\n          \"Movie\",\n          \"TV\",\n          \"ONA\"\n        ],\n        \"semantic_type\": \"\",\n        \"description\": \"\"\n      }\n    },\n    {\n      \"column\": \"episodes\",\n      \"properties\": {\n        \"dtype\": \"category\",\n        \"num_unique_values\": 187,\n        \"samples\": [\n          \"141\",\n          \"54\",\n          \"52\"\n        ],\n        \"semantic_type\": \"\",\n        \"description\": \"\"\n      }\n    },\n    {\n      \"column\": \"rating\",\n      \"properties\": {\n        \"dtype\": \"number\",\n        \"std\": 1.0267463068980598,\n        \"min\": 1.67,\n        \"max\": 10.0,\n        \"num_unique_values\": 598,\n        \"samples\": [\n          7.87,\n          6.11,\n          4.1\n        ],\n        \"semantic_type\": \"\",\n        \"description\": \"\"\n      }\n    },\n    {\n      \"column\": \"members\",\n      \"properties\": {\n        \"dtype\": \"number\",\n        \"std\": 54820,\n        \"min\": 5,\n        \"max\": 1013917,\n        \"num_unique_values\": 6706,\n        \"samples\": [\n          170754,\n          1515,\n          66376\n        ],\n        \"semantic_type\": \"\",\n        \"description\": \"\"\n      }\n    }\n  ]\n}"
            }
          },
          "metadata": {},
          "execution_count": 4
        }
      ]
    },
    {
      "cell_type": "code",
      "source": [
        "print(\"\\nRating DataFrame Info:\")\n",
        "print(ratings.info())\n",
        "ratings.head()"
      ],
      "metadata": {
        "colab": {
          "base_uri": "https://localhost:8080/",
          "height": 443
        },
        "id": "UE3onNWL-7zW",
        "outputId": "d3797a68-3ac7-43db-a59a-e9508d71d89a"
      },
      "execution_count": 5,
      "outputs": [
        {
          "output_type": "stream",
          "name": "stdout",
          "text": [
            "\n",
            "Rating DataFrame Info:\n",
            "<class 'pandas.core.frame.DataFrame'>\n",
            "RangeIndex: 7813737 entries, 0 to 7813736\n",
            "Data columns (total 3 columns):\n",
            " #   Column    Dtype\n",
            "---  ------    -----\n",
            " 0   user_id   int64\n",
            " 1   anime_id  int64\n",
            " 2   rating    int64\n",
            "dtypes: int64(3)\n",
            "memory usage: 178.8 MB\n",
            "None\n"
          ]
        },
        {
          "output_type": "execute_result",
          "data": {
            "text/plain": [
              "   user_id  anime_id  rating\n",
              "0        1        20      -1\n",
              "1        1        24      -1\n",
              "2        1        79      -1\n",
              "3        1       226      -1\n",
              "4        1       241      -1"
            ],
            "text/html": [
              "\n",
              "  <div id=\"df-400ecaa3-67c4-4eba-804c-fd864dfeb1d9\" class=\"colab-df-container\">\n",
              "    <div>\n",
              "<style scoped>\n",
              "    .dataframe tbody tr th:only-of-type {\n",
              "        vertical-align: middle;\n",
              "    }\n",
              "\n",
              "    .dataframe tbody tr th {\n",
              "        vertical-align: top;\n",
              "    }\n",
              "\n",
              "    .dataframe thead th {\n",
              "        text-align: right;\n",
              "    }\n",
              "</style>\n",
              "<table border=\"1\" class=\"dataframe\">\n",
              "  <thead>\n",
              "    <tr style=\"text-align: right;\">\n",
              "      <th></th>\n",
              "      <th>user_id</th>\n",
              "      <th>anime_id</th>\n",
              "      <th>rating</th>\n",
              "    </tr>\n",
              "  </thead>\n",
              "  <tbody>\n",
              "    <tr>\n",
              "      <th>0</th>\n",
              "      <td>1</td>\n",
              "      <td>20</td>\n",
              "      <td>-1</td>\n",
              "    </tr>\n",
              "    <tr>\n",
              "      <th>1</th>\n",
              "      <td>1</td>\n",
              "      <td>24</td>\n",
              "      <td>-1</td>\n",
              "    </tr>\n",
              "    <tr>\n",
              "      <th>2</th>\n",
              "      <td>1</td>\n",
              "      <td>79</td>\n",
              "      <td>-1</td>\n",
              "    </tr>\n",
              "    <tr>\n",
              "      <th>3</th>\n",
              "      <td>1</td>\n",
              "      <td>226</td>\n",
              "      <td>-1</td>\n",
              "    </tr>\n",
              "    <tr>\n",
              "      <th>4</th>\n",
              "      <td>1</td>\n",
              "      <td>241</td>\n",
              "      <td>-1</td>\n",
              "    </tr>\n",
              "  </tbody>\n",
              "</table>\n",
              "</div>\n",
              "    <div class=\"colab-df-buttons\">\n",
              "\n",
              "  <div class=\"colab-df-container\">\n",
              "    <button class=\"colab-df-convert\" onclick=\"convertToInteractive('df-400ecaa3-67c4-4eba-804c-fd864dfeb1d9')\"\n",
              "            title=\"Convert this dataframe to an interactive table.\"\n",
              "            style=\"display:none;\">\n",
              "\n",
              "  <svg xmlns=\"http://www.w3.org/2000/svg\" height=\"24px\" viewBox=\"0 -960 960 960\">\n",
              "    <path d=\"M120-120v-720h720v720H120Zm60-500h600v-160H180v160Zm220 220h160v-160H400v160Zm0 220h160v-160H400v160ZM180-400h160v-160H180v160Zm440 0h160v-160H620v160ZM180-180h160v-160H180v160Zm440 0h160v-160H620v160Z\"/>\n",
              "  </svg>\n",
              "    </button>\n",
              "\n",
              "  <style>\n",
              "    .colab-df-container {\n",
              "      display:flex;\n",
              "      gap: 12px;\n",
              "    }\n",
              "\n",
              "    .colab-df-convert {\n",
              "      background-color: #E8F0FE;\n",
              "      border: none;\n",
              "      border-radius: 50%;\n",
              "      cursor: pointer;\n",
              "      display: none;\n",
              "      fill: #1967D2;\n",
              "      height: 32px;\n",
              "      padding: 0 0 0 0;\n",
              "      width: 32px;\n",
              "    }\n",
              "\n",
              "    .colab-df-convert:hover {\n",
              "      background-color: #E2EBFA;\n",
              "      box-shadow: 0px 1px 2px rgba(60, 64, 67, 0.3), 0px 1px 3px 1px rgba(60, 64, 67, 0.15);\n",
              "      fill: #174EA6;\n",
              "    }\n",
              "\n",
              "    .colab-df-buttons div {\n",
              "      margin-bottom: 4px;\n",
              "    }\n",
              "\n",
              "    [theme=dark] .colab-df-convert {\n",
              "      background-color: #3B4455;\n",
              "      fill: #D2E3FC;\n",
              "    }\n",
              "\n",
              "    [theme=dark] .colab-df-convert:hover {\n",
              "      background-color: #434B5C;\n",
              "      box-shadow: 0px 1px 3px 1px rgba(0, 0, 0, 0.15);\n",
              "      filter: drop-shadow(0px 1px 2px rgba(0, 0, 0, 0.3));\n",
              "      fill: #FFFFFF;\n",
              "    }\n",
              "  </style>\n",
              "\n",
              "    <script>\n",
              "      const buttonEl =\n",
              "        document.querySelector('#df-400ecaa3-67c4-4eba-804c-fd864dfeb1d9 button.colab-df-convert');\n",
              "      buttonEl.style.display =\n",
              "        google.colab.kernel.accessAllowed ? 'block' : 'none';\n",
              "\n",
              "      async function convertToInteractive(key) {\n",
              "        const element = document.querySelector('#df-400ecaa3-67c4-4eba-804c-fd864dfeb1d9');\n",
              "        const dataTable =\n",
              "          await google.colab.kernel.invokeFunction('convertToInteractive',\n",
              "                                                    [key], {});\n",
              "        if (!dataTable) return;\n",
              "\n",
              "        const docLinkHtml = 'Like what you see? Visit the ' +\n",
              "          '<a target=\"_blank\" href=https://colab.research.google.com/notebooks/data_table.ipynb>data table notebook</a>'\n",
              "          + ' to learn more about interactive tables.';\n",
              "        element.innerHTML = '';\n",
              "        dataTable['output_type'] = 'display_data';\n",
              "        await google.colab.output.renderOutput(dataTable, element);\n",
              "        const docLink = document.createElement('div');\n",
              "        docLink.innerHTML = docLinkHtml;\n",
              "        element.appendChild(docLink);\n",
              "      }\n",
              "    </script>\n",
              "  </div>\n",
              "\n",
              "\n",
              "    <div id=\"df-59848315-1713-48ad-8c2d-8a0d3a050a68\">\n",
              "      <button class=\"colab-df-quickchart\" onclick=\"quickchart('df-59848315-1713-48ad-8c2d-8a0d3a050a68')\"\n",
              "                title=\"Suggest charts\"\n",
              "                style=\"display:none;\">\n",
              "\n",
              "<svg xmlns=\"http://www.w3.org/2000/svg\" height=\"24px\"viewBox=\"0 0 24 24\"\n",
              "     width=\"24px\">\n",
              "    <g>\n",
              "        <path d=\"M19 3H5c-1.1 0-2 .9-2 2v14c0 1.1.9 2 2 2h14c1.1 0 2-.9 2-2V5c0-1.1-.9-2-2-2zM9 17H7v-7h2v7zm4 0h-2V7h2v10zm4 0h-2v-4h2v4z\"/>\n",
              "    </g>\n",
              "</svg>\n",
              "      </button>\n",
              "\n",
              "<style>\n",
              "  .colab-df-quickchart {\n",
              "      --bg-color: #E8F0FE;\n",
              "      --fill-color: #1967D2;\n",
              "      --hover-bg-color: #E2EBFA;\n",
              "      --hover-fill-color: #174EA6;\n",
              "      --disabled-fill-color: #AAA;\n",
              "      --disabled-bg-color: #DDD;\n",
              "  }\n",
              "\n",
              "  [theme=dark] .colab-df-quickchart {\n",
              "      --bg-color: #3B4455;\n",
              "      --fill-color: #D2E3FC;\n",
              "      --hover-bg-color: #434B5C;\n",
              "      --hover-fill-color: #FFFFFF;\n",
              "      --disabled-bg-color: #3B4455;\n",
              "      --disabled-fill-color: #666;\n",
              "  }\n",
              "\n",
              "  .colab-df-quickchart {\n",
              "    background-color: var(--bg-color);\n",
              "    border: none;\n",
              "    border-radius: 50%;\n",
              "    cursor: pointer;\n",
              "    display: none;\n",
              "    fill: var(--fill-color);\n",
              "    height: 32px;\n",
              "    padding: 0;\n",
              "    width: 32px;\n",
              "  }\n",
              "\n",
              "  .colab-df-quickchart:hover {\n",
              "    background-color: var(--hover-bg-color);\n",
              "    box-shadow: 0 1px 2px rgba(60, 64, 67, 0.3), 0 1px 3px 1px rgba(60, 64, 67, 0.15);\n",
              "    fill: var(--button-hover-fill-color);\n",
              "  }\n",
              "\n",
              "  .colab-df-quickchart-complete:disabled,\n",
              "  .colab-df-quickchart-complete:disabled:hover {\n",
              "    background-color: var(--disabled-bg-color);\n",
              "    fill: var(--disabled-fill-color);\n",
              "    box-shadow: none;\n",
              "  }\n",
              "\n",
              "  .colab-df-spinner {\n",
              "    border: 2px solid var(--fill-color);\n",
              "    border-color: transparent;\n",
              "    border-bottom-color: var(--fill-color);\n",
              "    animation:\n",
              "      spin 1s steps(1) infinite;\n",
              "  }\n",
              "\n",
              "  @keyframes spin {\n",
              "    0% {\n",
              "      border-color: transparent;\n",
              "      border-bottom-color: var(--fill-color);\n",
              "      border-left-color: var(--fill-color);\n",
              "    }\n",
              "    20% {\n",
              "      border-color: transparent;\n",
              "      border-left-color: var(--fill-color);\n",
              "      border-top-color: var(--fill-color);\n",
              "    }\n",
              "    30% {\n",
              "      border-color: transparent;\n",
              "      border-left-color: var(--fill-color);\n",
              "      border-top-color: var(--fill-color);\n",
              "      border-right-color: var(--fill-color);\n",
              "    }\n",
              "    40% {\n",
              "      border-color: transparent;\n",
              "      border-right-color: var(--fill-color);\n",
              "      border-top-color: var(--fill-color);\n",
              "    }\n",
              "    60% {\n",
              "      border-color: transparent;\n",
              "      border-right-color: var(--fill-color);\n",
              "    }\n",
              "    80% {\n",
              "      border-color: transparent;\n",
              "      border-right-color: var(--fill-color);\n",
              "      border-bottom-color: var(--fill-color);\n",
              "    }\n",
              "    90% {\n",
              "      border-color: transparent;\n",
              "      border-bottom-color: var(--fill-color);\n",
              "    }\n",
              "  }\n",
              "</style>\n",
              "\n",
              "      <script>\n",
              "        async function quickchart(key) {\n",
              "          const quickchartButtonEl =\n",
              "            document.querySelector('#' + key + ' button');\n",
              "          quickchartButtonEl.disabled = true;  // To prevent multiple clicks.\n",
              "          quickchartButtonEl.classList.add('colab-df-spinner');\n",
              "          try {\n",
              "            const charts = await google.colab.kernel.invokeFunction(\n",
              "                'suggestCharts', [key], {});\n",
              "          } catch (error) {\n",
              "            console.error('Error during call to suggestCharts:', error);\n",
              "          }\n",
              "          quickchartButtonEl.classList.remove('colab-df-spinner');\n",
              "          quickchartButtonEl.classList.add('colab-df-quickchart-complete');\n",
              "        }\n",
              "        (() => {\n",
              "          let quickchartButtonEl =\n",
              "            document.querySelector('#df-59848315-1713-48ad-8c2d-8a0d3a050a68 button');\n",
              "          quickchartButtonEl.style.display =\n",
              "            google.colab.kernel.accessAllowed ? 'block' : 'none';\n",
              "        })();\n",
              "      </script>\n",
              "    </div>\n",
              "\n",
              "    </div>\n",
              "  </div>\n"
            ],
            "application/vnd.google.colaboratory.intrinsic+json": {
              "type": "dataframe",
              "variable_name": "ratings"
            }
          },
          "metadata": {},
          "execution_count": 5
        }
      ]
    },
    {
      "cell_type": "markdown",
      "source": [
        "#### **Deskripsi Fitur**\n",
        "Terdapat 2 file .csv pada dataset ini yaitu `anime.csv` & `rating.csv` dengan isi awal seperti di bawah;\n",
        "\n",
        "**Anime.csv:**\n",
        "\n",
        "- `anime_id` : ID unik dari tiap anime pada myanimelist.net. (numerik)\n",
        "- `name` : nama dari seri anime. (objek)\n",
        "- `genre` : list genre dari anime tersebut terpisah dengan koma. (objek)\n",
        "- `type` : tipe anime; movie, seri TV, seri OVA, dll. (objek)\n",
        "- `episodes` : Jumlah episode dari seri tersebut. (1 jika movie). (objek)\n",
        "- `rating` : rata-rata rating per 10 dari anime tersebut. (numerik)\n",
        "- `members` : Jumlah member dari komunitas yang berada pada \"group\" anime tersebut. (numerik)\n",
        "\n",
        "**Rating.csv**\n",
        "\n",
        "- `user_id` : identifikasi unik user. (numerik)\n",
        "- `anime_id` : ID unik dari anime yang dirating oleh user. (numerik)\n",
        "- `rating` : rating dari 10 yang diberikan user (-1 jika user menonton namun tidak memberi rating). (numerik)"
      ],
      "metadata": {
        "id": "S93SLFSSGhue"
      }
    },
    {
      "cell_type": "markdown",
      "source": [
        "### Exploratory Data Analysis (EDA)"
      ],
      "metadata": {
        "id": "akYpDpC7AsW_"
      }
    },
    {
      "cell_type": "markdown",
      "source": [
        "### Data Checking"
      ],
      "metadata": {
        "id": "jo2SOetlAya6"
      }
    },
    {
      "cell_type": "code",
      "source": [
        "print(f\"jumlah missing values pada df anime:\\n{anime.isna().sum()}\")\n",
        "print(f\"\\njumlah missing values pada df ratings:\\n{ratings.isna().sum()}\")\n",
        "\n",
        "\n",
        "print(f\"\\n\\ndata duplikasi pada df anime: {anime.duplicated().sum()}\")\n",
        "print(f\"data duplikasi pada df ratings: {ratings.duplicated().sum()}\")"
      ],
      "metadata": {
        "colab": {
          "base_uri": "https://localhost:8080/"
        },
        "id": "UIrmpzRJAxvz",
        "outputId": "c5056270-547c-41c5-da07-09313a3f48c1"
      },
      "execution_count": 6,
      "outputs": [
        {
          "output_type": "stream",
          "name": "stdout",
          "text": [
            "jumlah missing values pada df anime:\n",
            "anime_id      0\n",
            "name          0\n",
            "genre        62\n",
            "type         25\n",
            "episodes      0\n",
            "rating      230\n",
            "members       0\n",
            "dtype: int64\n",
            "\n",
            "jumlah missing values pada df ratings:\n",
            "user_id     0\n",
            "anime_id    0\n",
            "rating      0\n",
            "dtype: int64\n",
            "\n",
            "\n",
            "data duplikasi pada df anime: 0\n",
            "data duplikasi pada df ratings: 1\n"
          ]
        }
      ]
    },
    {
      "cell_type": "markdown",
      "source": [
        "#### **Kondisi Data**\n",
        "Jumlah data awal yaitu 12.294 data entri pada `anime.csv` dan 7.813.736 data entri pada `rating.csv`.\n",
        "- Anime.csv:\n",
        "  - **Tipe data kurang tepat:** Jumlah episode (`episodes`) dalam bentuk objek sedangkan seharusnya numerik, namun setelah validasi ulang memang terdapat seri anime yang belum tamat dan diberi penjelasan `unknown`. Untuk itu data akan tetap ditransformasi namun data NULL setelahnya akan dibiarkan.\n",
        "  - **Missing Values:** Terdapat sejumlah baris dengan Missing Values; 62 pada kolom `genre`, 25 pada kolom `type`, dan 230 pada kolom `rating`. Hal ini akan ditangani dengan penghapusan baris demi kelancaran dalam training model\n",
        "  - **Data Duplikat:** Tidak ditemukan baris duplikat pada `Anime.csv`\n",
        "\n",
        "- Rating.csv:\n",
        "  - **Tipe data salah:** Tipe data dari tiap kolom sudah sesuai\n",
        "  - **Missing Values:** Tidak terdapat missing values yang ditemukan pada `Rating.csv`.\n",
        "  - **Data Duplikat:** Terdapat 1 baris duplikat yang akan ditangani untuk mengurangi bias pada persiapan data."
      ],
      "metadata": {
        "id": "3bIIDn2yQ4-0"
      }
    },
    {
      "cell_type": "markdown",
      "source": [
        "### Analisa distribusi data"
      ],
      "metadata": {
        "id": "WG0JdpoLTHWE"
      }
    },
    {
      "cell_type": "markdown",
      "source": [
        "Pengecekan jumlah pengguna dan anime unik"
      ],
      "metadata": {
        "id": "XDopcbZejqxd"
      }
    },
    {
      "cell_type": "code",
      "source": [
        "num_users = ratings['user_id'].nunique()\n",
        "print(f\"Jumlah pengguna unik : {num_users}\")\n",
        "\n",
        "num_anime = anime['anime_id'].nunique()\n",
        "print(f\"Jumlah anime unik : {num_anime}\")\n",
        "\n",
        "print(\"Contoh judul:\\n\", anime['name'].unique()[:10])"
      ],
      "metadata": {
        "colab": {
          "base_uri": "https://localhost:8080/"
        },
        "id": "1iFwHoCgichf",
        "outputId": "d94f6c2d-0fb2-4913-e237-56f441267375"
      },
      "execution_count": 7,
      "outputs": [
        {
          "output_type": "stream",
          "name": "stdout",
          "text": [
            "Jumlah pengguna unik : 73515\n",
            "Jumlah anime unik : 12294\n",
            "Contoh judul:\n",
            " ['Kimi no Na wa.' 'Fullmetal Alchemist: Brotherhood' 'Gintama°'\n",
            " 'Steins;Gate' 'Gintama&#039;'\n",
            " 'Haikyuu!!: Karasuno Koukou VS Shiratorizawa Gakuen Koukou'\n",
            " 'Hunter x Hunter (2011)' 'Ginga Eiyuu Densetsu'\n",
            " 'Gintama Movie: Kanketsu-hen - Yorozuya yo Eien Nare'\n",
            " 'Gintama&#039;: Enchousen']\n"
          ]
        }
      ]
    },
    {
      "cell_type": "markdown",
      "source": [
        "Pengecekan jumlah tipe dan genre anime unik"
      ],
      "metadata": {
        "id": "o4v_ENnXjzdH"
      }
    },
    {
      "cell_type": "code",
      "source": [
        "unique_types = anime['type'].dropna().unique().tolist()\n",
        "print(f\"Jumlah tipe anime unik : {len(unique_types)}\")\n",
        "print(\"Daftar tipe anime :\", sorted(unique_types))\n",
        "\n",
        "genre_series = anime['genre'].dropna().apply(lambda s: [g.strip() for g in s.split(',')])\n",
        "all_genres = set(g for sublist in genre_series for g in sublist)\n",
        "print(f\"Jumlah genre unik : {len(all_genres)}\")\n",
        "print(\"Daftar genre :\")\n",
        "for genre in sorted(all_genres):\n",
        "  print(\"- \",genre)"
      ],
      "metadata": {
        "colab": {
          "base_uri": "https://localhost:8080/"
        },
        "id": "Ik8CV5fDAyJa",
        "outputId": "75ecc4d2-9794-4bcb-9beb-1bebeeecc481"
      },
      "execution_count": 8,
      "outputs": [
        {
          "output_type": "stream",
          "name": "stdout",
          "text": [
            "Jumlah tipe anime unik : 6\n",
            "Daftar tipe anime : ['Movie', 'Music', 'ONA', 'OVA', 'Special', 'TV']\n",
            "Jumlah genre unik : 43\n",
            "Daftar genre :\n",
            "-  Action\n",
            "-  Adventure\n",
            "-  Cars\n",
            "-  Comedy\n",
            "-  Dementia\n",
            "-  Demons\n",
            "-  Drama\n",
            "-  Ecchi\n",
            "-  Fantasy\n",
            "-  Game\n",
            "-  Harem\n",
            "-  Hentai\n",
            "-  Historical\n",
            "-  Horror\n",
            "-  Josei\n",
            "-  Kids\n",
            "-  Magic\n",
            "-  Martial Arts\n",
            "-  Mecha\n",
            "-  Military\n",
            "-  Music\n",
            "-  Mystery\n",
            "-  Parody\n",
            "-  Police\n",
            "-  Psychological\n",
            "-  Romance\n",
            "-  Samurai\n",
            "-  School\n",
            "-  Sci-Fi\n",
            "-  Seinen\n",
            "-  Shoujo\n",
            "-  Shoujo Ai\n",
            "-  Shounen\n",
            "-  Shounen Ai\n",
            "-  Slice of Life\n",
            "-  Space\n",
            "-  Sports\n",
            "-  Super Power\n",
            "-  Supernatural\n",
            "-  Thriller\n",
            "-  Vampire\n",
            "-  Yaoi\n",
            "-  Yuri\n"
          ]
        }
      ]
    },
    {
      "cell_type": "code",
      "source": [
        "rating_counts = ratings['rating'].value_counts().sort_index()\n",
        "print(\"\\nDistribusi nilai rating (rating.csv):\")\n",
        "print(rating_counts)\n",
        "\n",
        "print(f\"\\nJumlah rating bernilai: {(ratings['rating'] != -1).sum()}\")\n",
        "print(f\"Jumlah rating '-1' (ditonton tapi tidak dinilai): {(ratings['rating'] == -1).sum()}\")"
      ],
      "metadata": {
        "colab": {
          "base_uri": "https://localhost:8080/"
        },
        "id": "Kol4NR7Rh9Lo",
        "outputId": "87b2fbb6-5e96-4179-9559-a5755a3e0ec3"
      },
      "execution_count": 9,
      "outputs": [
        {
          "output_type": "stream",
          "name": "stdout",
          "text": [
            "\n",
            "Distribusi nilai rating (rating.csv):\n",
            "rating\n",
            "-1     1476496\n",
            " 1       16649\n",
            " 2       23150\n",
            " 3       41453\n",
            " 4      104291\n",
            " 5      282806\n",
            " 6      637775\n",
            " 7     1375287\n",
            " 8     1646019\n",
            " 9     1254096\n",
            " 10     955715\n",
            "Name: count, dtype: int64\n",
            "\n",
            "Jumlah rating bernilai: 6337241\n",
            "Jumlah rating '-1' (ditonton tapi tidak dinilai): 1476496\n"
          ]
        }
      ]
    },
    {
      "cell_type": "markdown",
      "source": [
        "#### **Hasil EDA**\n",
        "- Terdapat 73.515 jumlah pengguna unik\n",
        "- Terdapat 12.294 jumlah judul anime unik\n",
        "- Terdapat 6 tipe penayangan anime berbeda\n",
        "- Terdapat 43 genre anime unik dalam dataset\n",
        "- Terdapat 6.337.241 baris data di mana user memberikan rating terhadap anime yang ditonton. Sebaliknya, 1.476.496 baris di mana user tidak memberikan rating terhadap anime yang ditonton (`rating`= -1)"
      ],
      "metadata": {
        "id": "mqFvS5XuRCWX"
      }
    },
    {
      "cell_type": "markdown",
      "source": [
        "## Data Preparation"
      ],
      "metadata": {
        "id": "HtoZ0dODb5DN"
      }
    },
    {
      "cell_type": "markdown",
      "source": [
        "Maksud dari tahap ini adalah untuk membersihkan dan mempersiapkan dataset sebelum digunakan untuk modeling demi mengantisipasi error seperti invalid value dan sebagainya. Tahap-tahap yang akan dilakukan adalah:\n",
        "\n",
        "1. **Koreksi tipe data:** Tipe data jumlah episode (`episodes`) pada `anime.csv` saat ini adalah objek, sementara isi dari kolom tersebut terbatas pada angka (numerik). Maka itu tipe data `episodes` akan diubah ke integer.\n",
        "\n",
        "2. **Menghapus data Missing Values:** Sebagaimana hasil pengecekan kondisi data, terdapat sejumlah baris dengan data NULL pada dataset `anime.csv` yang perlu dihapus.\n",
        "\n",
        "3. **Menghapus data duplikat:** Sebagaimana hasil pengecekan kondisi awal data, terdapat 1 baris yang duplikat pada dataset `rating.csv` yang perlu dihapus.\n",
        "\n",
        "1. **Koreksi tipe data:** Tipe data jumlah episode (`episodes`) pada `anime.csv` saat ini adalah objek, sementara isi dari kolom tersebut terbatas pada angka (numerik). Maka itu tipe data `episodes` akan diubah ke integer. Ini menghasilkan 187 data NULL pada kolom `episodes` karena data tersebut awalnya string \"Unknown\" alias masih dalam produksi, data NULL ini tidak ditindaklanjuti berhubung tidak relevan dengan pembangunan model nantinya.\n",
        "\n",
        "4. **Hapus data kurang relevan:**\n",
        "  - **data dengan skor `rating` -1 pada `rating.csv`:** Sumber dataset mengatakan bahwa nilai -1 pada data `rating` dari `rating.csv` menandakan user tidak melakukan rating terhadap anime, alias data tersebut tidak memberikan sentimen pengguna & tidak cocok untuk membangun model\n",
        "\n",
        "5. **Sampling data:** Jumlah data pada `rating.csv` terlalu banyak secara total (7.813.736 entri) sehingga demi mempersingkat waktu pemodelan dan beban komputasi, data akan disampling hingga 500.000 baris data saja\n",
        "\n",
        "6. **Persiapan untuk content based filtering (CBF):**\n",
        "  - konversi data ke vektor TF-IDF lalu menerapkan cosine similarity untuk menghitung kemiripan berdasarkan `genre`anime\n",
        "\n",
        "7. **Persiapan untuk collaborative filtering (CF):**\n",
        "  - Encode user_id dan anime_id menjadi indeks integer berurutan\n",
        "  - **Split data ke data training & testing:** split data ke dua bagian yaitu 80% untuk pelatihan dan 20% untuk pengujian"
      ],
      "metadata": {
        "id": "zyvvyD-FUPYM"
      }
    },
    {
      "cell_type": "markdown",
      "source": [
        "### Data Cleaning"
      ],
      "metadata": {
        "id": "R3SpmQpQcZ2g"
      }
    },
    {
      "cell_type": "markdown",
      "source": [
        "Penanganan data null dan data duplikasi"
      ],
      "metadata": {
        "id": "vLqqb5hFnqGw"
      }
    },
    {
      "cell_type": "code",
      "source": [
        "clean_anime = anime.copy()\n",
        "clean_ratings = ratings.copy()\n",
        "\n",
        "clean_anime = clean_anime.dropna()\n",
        "clean_ratings = clean_ratings.drop_duplicates()\n",
        "\n",
        "print(f\"jumlah missing values pada anime:\\n{clean_anime.isna().sum()}\")\n",
        "print(f\"\\njumlah missing values pada ratings:\\n{clean_ratings.isna().sum()}\")\n",
        "\n",
        "print(f\"\\njumlah baris duplikat pada anime: {clean_anime.duplicated().sum()}\")\n",
        "print(f\"\\njumlah baris duplikat pada ratings: {clean_ratings.duplicated().sum()}\")"
      ],
      "metadata": {
        "colab": {
          "base_uri": "https://localhost:8080/"
        },
        "id": "faAmMAntmlx6",
        "outputId": "849d4527-9bf5-4449-c22e-8da279542bee"
      },
      "execution_count": 10,
      "outputs": [
        {
          "output_type": "stream",
          "name": "stdout",
          "text": [
            "jumlah missing values pada anime:\n",
            "anime_id    0\n",
            "name        0\n",
            "genre       0\n",
            "type        0\n",
            "episodes    0\n",
            "rating      0\n",
            "members     0\n",
            "dtype: int64\n",
            "\n",
            "jumlah missing values pada ratings:\n",
            "user_id     0\n",
            "anime_id    0\n",
            "rating      0\n",
            "dtype: int64\n",
            "\n",
            "jumlah baris duplikat pada anime: 0\n",
            "\n",
            "jumlah baris duplikat pada ratings: 0\n"
          ]
        }
      ]
    },
    {
      "cell_type": "markdown",
      "source": [
        "Koreksi tipe data"
      ],
      "metadata": {
        "id": "AEjrNIIvm0r2"
      }
    },
    {
      "cell_type": "code",
      "source": [
        "clean_anime['episodes'] = pd.to_numeric(clean_anime['episodes'], errors='coerce')\n",
        "clean_anime.info()\n",
        "\n",
        "print(f\"jumlah missing values pada anime:\\n{clean_anime.isna().sum()}\")"
      ],
      "metadata": {
        "colab": {
          "base_uri": "https://localhost:8080/"
        },
        "id": "T7HCgcKjPsx-",
        "outputId": "100293d6-a0b2-4034-e1c0-55eb957e5a3d"
      },
      "execution_count": 11,
      "outputs": [
        {
          "output_type": "stream",
          "name": "stdout",
          "text": [
            "<class 'pandas.core.frame.DataFrame'>\n",
            "Index: 12017 entries, 0 to 12293\n",
            "Data columns (total 7 columns):\n",
            " #   Column    Non-Null Count  Dtype  \n",
            "---  ------    --------------  -----  \n",
            " 0   anime_id  12017 non-null  int64  \n",
            " 1   name      12017 non-null  object \n",
            " 2   genre     12017 non-null  object \n",
            " 3   type      12017 non-null  object \n",
            " 4   episodes  11830 non-null  float64\n",
            " 5   rating    12017 non-null  float64\n",
            " 6   members   12017 non-null  int64  \n",
            "dtypes: float64(2), int64(2), object(3)\n",
            "memory usage: 751.1+ KB\n",
            "jumlah missing values pada anime:\n",
            "anime_id      0\n",
            "name          0\n",
            "genre         0\n",
            "type          0\n",
            "episodes    187\n",
            "rating        0\n",
            "members       0\n",
            "dtype: int64\n"
          ]
        }
      ]
    },
    {
      "cell_type": "markdown",
      "source": [
        "**Insight:**\n",
        "- null pada `episodes` setelah konversi ke float diabaikan untuk saat ini, data null dihasilkan dari gagalnya konversi string \"unknown\" ke tipe data angka, null menandakan seri anime yang masih belum tamat atau sedang tayang"
      ],
      "metadata": {
        "id": "oM5A6hngP6KE"
      }
    },
    {
      "cell_type": "markdown",
      "source": [
        "Hapus data kurang relevean"
      ],
      "metadata": {
        "id": "x4B48zh-cdW-"
      }
    },
    {
      "cell_type": "code",
      "source": [
        "clean_ratings.drop(clean_ratings[clean_ratings['rating'] == -1].index, inplace=True)\n",
        "clean_ratings.info()\n",
        "\n",
        "print(f\"\\nJumlah rating '-1' (ditonton tapi tidak dinilai): {(clean_ratings['rating'] == -1).sum()}\")"
      ],
      "metadata": {
        "colab": {
          "base_uri": "https://localhost:8080/"
        },
        "id": "5uewmqIIcdpM",
        "outputId": "be772f08-5482-438d-ac3f-5c68595ea00c"
      },
      "execution_count": 12,
      "outputs": [
        {
          "output_type": "stream",
          "name": "stdout",
          "text": [
            "<class 'pandas.core.frame.DataFrame'>\n",
            "Index: 6337240 entries, 47 to 7813736\n",
            "Data columns (total 3 columns):\n",
            " #   Column    Dtype\n",
            "---  ------    -----\n",
            " 0   user_id   int64\n",
            " 1   anime_id  int64\n",
            " 2   rating    int64\n",
            "dtypes: int64(3)\n",
            "memory usage: 193.4 MB\n",
            "\n",
            "Jumlah rating '-1' (ditonton tapi tidak dinilai): 0\n"
          ]
        }
      ]
    },
    {
      "cell_type": "markdown",
      "source": [
        "Sampling data `rating.csv` sebanyak 500.000"
      ],
      "metadata": {
        "id": "7CzjNldLuO8n"
      }
    },
    {
      "cell_type": "code",
      "source": [
        "clean_ratings = clean_ratings.sample(n=500000, random_state=42)"
      ],
      "metadata": {
        "id": "Vn6OBMCjuK8Z"
      },
      "execution_count": 13,
      "outputs": []
    },
    {
      "cell_type": "markdown",
      "source": [
        "Cek ulang kondisi dataset keseluruhan"
      ],
      "metadata": {
        "id": "5YD2O7R18-Y7"
      }
    },
    {
      "cell_type": "code",
      "source": [
        "print(clean_anime.info())\n",
        "print(\"\\n\")\n",
        "print(clean_ratings.info())"
      ],
      "metadata": {
        "colab": {
          "base_uri": "https://localhost:8080/"
        },
        "id": "_K8oYeMA9Bzl",
        "outputId": "3f1c8fc6-8683-4c91-a0d2-fc85952b7e88"
      },
      "execution_count": 14,
      "outputs": [
        {
          "output_type": "stream",
          "name": "stdout",
          "text": [
            "<class 'pandas.core.frame.DataFrame'>\n",
            "Index: 12017 entries, 0 to 12293\n",
            "Data columns (total 7 columns):\n",
            " #   Column    Non-Null Count  Dtype  \n",
            "---  ------    --------------  -----  \n",
            " 0   anime_id  12017 non-null  int64  \n",
            " 1   name      12017 non-null  object \n",
            " 2   genre     12017 non-null  object \n",
            " 3   type      12017 non-null  object \n",
            " 4   episodes  11830 non-null  float64\n",
            " 5   rating    12017 non-null  float64\n",
            " 6   members   12017 non-null  int64  \n",
            "dtypes: float64(2), int64(2), object(3)\n",
            "memory usage: 751.1+ KB\n",
            "None\n",
            "\n",
            "\n",
            "<class 'pandas.core.frame.DataFrame'>\n",
            "Index: 500000 entries, 6884458 to 7533928\n",
            "Data columns (total 3 columns):\n",
            " #   Column    Non-Null Count   Dtype\n",
            "---  ------    --------------   -----\n",
            " 0   user_id   500000 non-null  int64\n",
            " 1   anime_id  500000 non-null  int64\n",
            " 2   rating    500000 non-null  int64\n",
            "dtypes: int64(3)\n",
            "memory usage: 15.3 MB\n",
            "None\n"
          ]
        }
      ]
    },
    {
      "cell_type": "markdown",
      "source": [
        "### Persiapan untuk Content Based Filtering"
      ],
      "metadata": {
        "id": "4hBMMfNKuLJx"
      }
    },
    {
      "cell_type": "markdown",
      "source": [
        "- Membuat stopword custom\n",
        "- konversi data ke vektor TF-IDF lalu menerapkan cosine similarity untuk menghitung kemiripan berdasarkan `genre`anime"
      ],
      "metadata": {
        "id": "neO_AY-UDq3A"
      }
    },
    {
      "cell_type": "code",
      "source": [
        "from sklearn.feature_extraction.text import TfidfVectorizer\n",
        "from sklearn.metrics.pairwise import cosine_similarity\n",
        "\n",
        "custom_stopwords = {'no', 'wa', 'ga', 'wo', 'ha', 'he', 'ni', 'de', 'to', 'x', 'vs'}\n",
        "\n",
        "tfidf = TfidfVectorizer(\n",
        "    token_pattern=r\"(?u)\\b\\w+\\b\",\n",
        "    stop_words=list(custom_stopwords)\n",
        ")\n",
        "tfidf_matrix = tfidf.fit_transform(clean_anime['genre'])\n",
        "\n",
        "cosine_sim = cosine_similarity(tfidf_matrix, tfidf_matrix)"
      ],
      "metadata": {
        "id": "luVtJbVrDsOp"
      },
      "execution_count": 15,
      "outputs": []
    },
    {
      "cell_type": "markdown",
      "source": [
        "### Persiapan untuk Collaborative Filtering"
      ],
      "metadata": {
        "id": "Umz7vQLeDDtn"
      }
    },
    {
      "cell_type": "markdown",
      "source": [
        "Encode user_id dan anime_id menjadi indeks integer berurutan"
      ],
      "metadata": {
        "id": "g6H2iSESDuhj"
      }
    },
    {
      "cell_type": "code",
      "source": [
        "from sklearn.preprocessing import LabelEncoder\n",
        "\n",
        "ratings_df = clean_ratings.copy()\n",
        "\n",
        "user_encoder = LabelEncoder()\n",
        "anime_encoder = LabelEncoder()\n",
        "\n",
        "ratings_df['user_idx'] = user_encoder.fit_transform(ratings_df['user_id'])\n",
        "ratings_df['anime_idx'] = anime_encoder.fit_transform(ratings_df['anime_id'])\n",
        "\n",
        "user_id_to_idx = {id: idx for idx, id in enumerate(user_encoder.classes_)}\n",
        "anime_id_to_idx = {id: idx for idx, id in enumerate(anime_encoder.classes_)}\n",
        "\n",
        "n_users = len(user_encoder.classes_)\n",
        "n_anime = len(anime_encoder.classes_)\n",
        "min_rating = clean_ratings['rating'].min()\n",
        "max_rating = clean_ratings['rating'].max()\n",
        "\n",
        "print(f\"Jumlah user: {n_users}\")\n",
        "print(f\"Jumlah anime: {n_anime}\")\n",
        "print(f\"Contoh mapping:\")\n",
        "print(f\"  User ID 1 -> idx: {user_id_to_idx[1]}\")\n",
        "print(f\"  Anime ID 20 -> idx: {anime_id_to_idx[20]}\")"
      ],
      "metadata": {
        "colab": {
          "base_uri": "https://localhost:8080/"
        },
        "id": "jUZ3ZY7oDECv",
        "outputId": "56c3abf2-49c1-4a02-bac4-4a6212c656d6"
      },
      "execution_count": 16,
      "outputs": [
        {
          "output_type": "stream",
          "name": "stdout",
          "text": [
            "Jumlah user: 55209\n",
            "Jumlah anime: 7516\n",
            "Contoh mapping:\n",
            "  User ID 1 -> idx: 0\n",
            "  Anime ID 20 -> idx: 10\n"
          ]
        }
      ]
    },
    {
      "cell_type": "markdown",
      "source": [
        "Bagi data menjadi train 80% dan test 20%."
      ],
      "metadata": {
        "id": "EIC8NQ_aDvcN"
      }
    },
    {
      "cell_type": "code",
      "source": [
        "from sklearn.model_selection import train_test_split\n",
        "\n",
        "X = ratings_df[['user_idx', 'anime_idx']].values\n",
        "y = ratings_df['rating'].values\n",
        "X_train, X_test, y_train, y_test = train_test_split(X, y, test_size=0.2, random_state=42)\n",
        "\n",
        "print(f\"Training set: {X_train.shape[0]} samples\")\n",
        "print(f\"Testing set: {X_test.shape[0]} samples\")"
      ],
      "metadata": {
        "colab": {
          "base_uri": "https://localhost:8080/"
        },
        "id": "P7TMmeHUDvHt",
        "outputId": "5a40f841-f435-4c44-b2a2-e0b68ce49c3a"
      },
      "execution_count": 17,
      "outputs": [
        {
          "output_type": "stream",
          "name": "stdout",
          "text": [
            "Training set: 400000 samples\n",
            "Testing set: 100000 samples\n"
          ]
        }
      ]
    },
    {
      "cell_type": "markdown",
      "source": [
        "## Modeling"
      ],
      "metadata": {
        "id": "KpN3y32TcJX0"
      }
    },
    {
      "cell_type": "markdown",
      "source": [
        "Model sistem rekomendasi yang akan dibangun ada 2 yaitu;\n",
        "- **Content Based Filtering (CBF):** sistem rekomendasi berdasarkan kemiripan jenis konten antar target utama (anime dalam kasus ini)\n",
        "- **Collaborative Filtering (CF):** sistem rekomendasi berdasarkan pola interaksi antar user dengan item, dalam kasus ini rating user terhadap anime"
      ],
      "metadata": {
        "id": "P__rA_dTD7Bf"
      }
    },
    {
      "cell_type": "markdown",
      "source": [
        "### Metrik Evaluasi\n",
        "1. Precision at K\n",
        "\n",
        "2. RMSE"
      ],
      "metadata": {
        "id": "6UKCEcMdFIaR"
      }
    },
    {
      "cell_type": "markdown",
      "source": [
        "### Model 1: Content Based Filtering (CBF)"
      ],
      "metadata": {
        "id": "FSi3JFp1cN2g"
      }
    },
    {
      "cell_type": "markdown",
      "source": [
        "fungsi untuk evaluasi kemiripan rekomendasi (Precision at K)\n",
        "\n",
        "    Fungsi ini menghitung Precision@K, di mana:\n",
        "    - target_genres: string, daftar genre item acuan, misal \"Action,Drama\"\n",
        "    - recommended_genres_list: list of strings, masing-masing adalah genre anime yang direkomendasikan\n",
        "    \n",
        "    Precision@K = (rekomendasi yang memiliki setidaknya satu genre sama dengan target) / (K)"
      ],
      "metadata": {
        "id": "RyUZXK3_Tk-R"
      }
    },
    {
      "cell_type": "code",
      "source": [
        "def calculate_genre_match(target_genres, recommended_genres_list):\n",
        "\n",
        "    target_set = set(g.strip() for g in target_genres.split(','))\n",
        "\n",
        "    match_count = 0\n",
        "    for genre_str in recommended_genres_list:\n",
        "        recommended_set = set(g.strip() for g in genre_str.split(','))\n",
        "        if target_set & recommended_set:\n",
        "            match_count += 1\n",
        "\n",
        "    return match_count / len(recommended_genres_list)"
      ],
      "metadata": {
        "id": "jQ6zwUJtScdw"
      },
      "execution_count": 18,
      "outputs": []
    },
    {
      "cell_type": "markdown",
      "source": [
        "Rekomendasi anime berdasarkan kemiripan judul dan fitur\n",
        "    \n",
        "    Parameters:\n",
        "    title (str): Judul anime\n",
        "    df (pd.DataFrame): DataFrame anime yang sudah diproses\n",
        "    cosine_sim (np.array): Matriks kesamaan cosine\n",
        "    top_n (int): Jumlah rekomendasi yang diinginkan\n",
        "    \n",
        "    Returns:\n",
        "    Langsung mencetak hasil rekomendasi dan metrik evaluasi"
      ],
      "metadata": {
        "id": "SonmDNZT0nIk"
      }
    },
    {
      "cell_type": "code",
      "source": [
        "def recommend_by_title(title, df, cosine_sim, top_n=10):\n",
        "    idx_list = df.index[df['name'] == title].tolist()\n",
        "    if not idx_list:\n",
        "        similar_titles = df[df['name'].str.contains(title, case=False)]['name'].tolist()\n",
        "        return f\"Judul tidak ditemukan, apakah yang Anda maksud: {similar_titles[:3]}?\"\n",
        "\n",
        "    idx = idx_list[0]\n",
        "    target_genres = df.iloc[idx]['genre']\n",
        "\n",
        "    sim_scores = list(enumerate(cosine_sim[idx]))\n",
        "    sim_scores = sorted(sim_scores, key=lambda x: x[1], reverse=True)[1:top_n+1]\n",
        "\n",
        "    rec_genres = [df.iloc[i]['genre'] for i, _ in sim_scores]\n",
        "    precision_k = calculate_genre_match(target_genres, rec_genres)\n",
        "\n",
        "    avg_sim = np.mean([score for _, score in sim_scores])\n",
        "\n",
        "    print(f\"\\nRekomendasi untuk '{title}':\")\n",
        "    print(\"=\" * 100)\n",
        "    print(f\"{'No.':<4}{'Judul Anime':<50}{'Similarity':<15}{'Genre Match'}\")\n",
        "    print(\"-\" * 100)\n",
        "\n",
        "    for i, (anime_idx, score) in enumerate(sim_scores, start=1):\n",
        "        anime_title = df.iloc[anime_idx]['name']\n",
        "        anime_genre = df.iloc[anime_idx]['genre']\n",
        "\n",
        "        match_status = \"✓\" if set(target_genres.split(', ')) & set(anime_genre.split(', ')) else \"✗\"\n",
        "\n",
        "        title_display = anime_title if len(anime_title) <= 45 else anime_title[:45] + \"...\"\n",
        "        print(f\"{i:<4}{title_display:<50}{score:.4f}{'':<10}{match_status}\")\n",
        "\n",
        "    print(\"=\" * 100)\n",
        "    print(f\"Rata-rata Similarity : {avg_sim:.4f}\")\n",
        "    print(f\"Precision@{top_n}     : {precision_k:.2%}\")"
      ],
      "metadata": {
        "id": "bH7oc_gqcJo2"
      },
      "execution_count": 19,
      "outputs": []
    },
    {
      "cell_type": "markdown",
      "source": [
        "Rekomendasi anime berdasarkan input genre, di mana input genre akan digunakan untuk mengambil acuan judul anime dari dataset\n",
        "    \n",
        "    Parameter:\n",
        "    genre (str)      : Genre anime yang dicari\n",
        "    df (pd.DataFrame) : DataFrame berisi data anime\n",
        "    cos_sim (array)  : Matriks similarity hasil perhitungan sebelumnya\n",
        "    top_n (int)      : Jumlah rekomendasi yang diinginkan (default: 10)\n",
        "    \n",
        "    Returns:\n",
        "    Langsung mencetak hasil rekomendasi dan metrik evaluasi"
      ],
      "metadata": {
        "id": "fpMzCkVD_vis"
      }
    },
    {
      "cell_type": "code",
      "source": [
        "def recommend_by_genre(genre, df, cos_sim, top_n=10):\n",
        "    genre = genre.strip().lower()\n",
        "\n",
        "    genre_mask = df['genre'].str.lower().str.contains(genre)\n",
        "    genre_df = df[genre_mask]\n",
        "\n",
        "    if genre_df.empty:\n",
        "        all_genres = set(g.strip().lower() for genres in df['genre'].dropna()\n",
        "                        for g in genres.split(','))\n",
        "        similar_genres = [g for g in all_genres if genre in g]\n",
        "\n",
        "        if similar_genres:\n",
        "            print(f\"Genre '{genre}' tidak ditemukan, mungkin maksud Anda:\")\n",
        "            for i, g in enumerate(similar_genres[:5], 1):\n",
        "                print(f\"{i}. {g.capitalize()}\")\n",
        "        else:\n",
        "            print(f\"Genre '{genre}' tidak ditemukan, berikut genre populer:\")\n",
        "            popular_genres = df['genre'].str.split(',').explode().str.strip().value_counts().index[:5]\n",
        "            for i, g in enumerate(popular_genres, 1):\n",
        "                print(f\"{i}. {g}\")\n",
        "        return\n",
        "\n",
        "    idx = genre_df.index[0]\n",
        "    target_genres = df.iloc[idx]['genre']\n",
        "\n",
        "    sim_scores = list(enumerate(cos_sim[idx]))\n",
        "    sim_scores = [x for x in sim_scores if x[0] != idx]\n",
        "    sim_scores = sorted(sim_scores, key=lambda x: x[1], reverse=True)[:top_n]\n",
        "\n",
        "    avg_sim = np.mean([score for _, score in sim_scores])\n",
        "    rec_genres = [df.iloc[i]['genre'] for i, _ in sim_scores]\n",
        "\n",
        "    precision_k = calculate_genre_match(target_genres, rec_genres)\n",
        "\n",
        "    print(f\"\\nRekomendasi untuk genre: '{genre}':\")\n",
        "    print(\"=\" * 100)\n",
        "    print(f\"{'No.':<4}{'Judul Anime':<50}{'Similarity':<15}{'Genre Match'}\")\n",
        "    print(\"-\" * 100)\n",
        "\n",
        "    for i, (anime_idx, score) in enumerate(sim_scores, 1):\n",
        "        title = df.iloc[anime_idx]['name']\n",
        "        genres = df.iloc[anime_idx]['genre']\n",
        "\n",
        "        match_status = \"✓\" if set(target_genres.split(', ')) & set(genres.split(', ')) else \"✗\"\n",
        "\n",
        "        display_title = title[:47] + \"...\" if len(title) > 50 else title\n",
        "        print(f\"{i:<4}{display_title:<50}{score:.4f}{'':<10}{match_status}\")\n",
        "\n",
        "    print(\"=\" * 100)\n",
        "    print(f\"Rata-rata Similarity: {avg_sim:.4f} | Precision@{top_n}: {precision_k:.2%}\")\n",
        "    print(f\"Anime perwakilan: {df.iloc[idx]['name']}\")\n"
      ],
      "metadata": {
        "id": "qPZX1UZ1B2K7"
      },
      "execution_count": 20,
      "outputs": []
    },
    {
      "cell_type": "markdown",
      "source": [
        "### Model 2: Collaborative Filtering"
      ],
      "metadata": {
        "id": "1XHCc_eRcO-i"
      }
    },
    {
      "cell_type": "markdown",
      "source": [
        "#### Membangun Model Neural Collaborative Filtering"
      ],
      "metadata": {
        "id": "H9ziO4nTeYIV"
      }
    },
    {
      "cell_type": "code",
      "source": [
        "import tensorflow as tf\n",
        "from tensorflow.keras.models import Model\n",
        "from tensorflow.keras.layers import Input, Embedding, Flatten, Concatenate, Dense, Dropout\n",
        "from tensorflow.keras.regularizers import l2\n",
        "\n",
        "def build_cf_model(n_users, n_anime, embedding_size=50):\n",
        "    user_input = Input(shape=(1,), name='user_input')\n",
        "    anime_input = Input(shape=(1,), name='anime_input')\n",
        "\n",
        "    user_embedding = Embedding(\n",
        "        input_dim=n_users,\n",
        "        output_dim=embedding_size,\n",
        "        embeddings_regularizer=l2(1e-6),\n",
        "        name='user_embedding'\n",
        "    )(user_input)\n",
        "\n",
        "    anime_embedding = Embedding(\n",
        "        input_dim=n_anime,\n",
        "        output_dim=embedding_size,\n",
        "        embeddings_regularizer=l2(1e-6),\n",
        "        name='anime_embedding'\n",
        "    )(anime_input)\n",
        "\n",
        "    user_vec = Flatten()(user_embedding)\n",
        "    anime_vec = Flatten()(anime_embedding)\n",
        "\n",
        "    concat = Concatenate()([user_vec, anime_vec])\n",
        "\n",
        "    dense = Dense(128, activation='relu')(concat)\n",
        "    dense = Dropout(0.2)(dense)\n",
        "    dense = Dense(64, activation='relu')(dense)\n",
        "    dense = Dropout(0.2)(dense)\n",
        "    output = Dense(1, activation='linear')(dense)\n",
        "\n",
        "    model = Model(inputs=[user_input, anime_input], outputs=output)\n",
        "    model.compile(\n",
        "        loss='mse',\n",
        "        optimizer='adam',\n",
        "        metrics=[tf.keras.metrics.RootMeanSquaredError(name='rmse')]\n",
        "    )\n",
        "\n",
        "    return model\n",
        "\n",
        "embedding_size = 50\n",
        "model = build_cf_model(n_users, n_anime, embedding_size)\n",
        "model.summary()"
      ],
      "metadata": {
        "colab": {
          "base_uri": "https://localhost:8080/",
          "height": 593
        },
        "id": "LmzgYzDJcQK0",
        "outputId": "c5e9f6d9-bdc0-44fb-95fc-ce20b8578db4"
      },
      "execution_count": 32,
      "outputs": [
        {
          "output_type": "display_data",
          "data": {
            "text/plain": [
              "\u001b[1mModel: \"functional_2\"\u001b[0m\n"
            ],
            "text/html": [
              "<pre style=\"white-space:pre;overflow-x:auto;line-height:normal;font-family:Menlo,'DejaVu Sans Mono',consolas,'Courier New',monospace\"><span style=\"font-weight: bold\">Model: \"functional_2\"</span>\n",
              "</pre>\n"
            ]
          },
          "metadata": {}
        },
        {
          "output_type": "display_data",
          "data": {
            "text/plain": [
              "┏━━━━━━━━━━━━━━━━━━━━━┳━━━━━━━━━━━━━━━━━━━┳━━━━━━━━━━━━┳━━━━━━━━━━━━━━━━━━━┓\n",
              "┃\u001b[1m \u001b[0m\u001b[1mLayer (type)       \u001b[0m\u001b[1m \u001b[0m┃\u001b[1m \u001b[0m\u001b[1mOutput Shape     \u001b[0m\u001b[1m \u001b[0m┃\u001b[1m \u001b[0m\u001b[1m   Param #\u001b[0m\u001b[1m \u001b[0m┃\u001b[1m \u001b[0m\u001b[1mConnected to     \u001b[0m\u001b[1m \u001b[0m┃\n",
              "┡━━━━━━━━━━━━━━━━━━━━━╇━━━━━━━━━━━━━━━━━━━╇━━━━━━━━━━━━╇━━━━━━━━━━━━━━━━━━━┩\n",
              "│ user_input          │ (\u001b[38;5;45mNone\u001b[0m, \u001b[38;5;34m1\u001b[0m)         │          \u001b[38;5;34m0\u001b[0m │ -                 │\n",
              "│ (\u001b[38;5;33mInputLayer\u001b[0m)        │                   │            │                   │\n",
              "├─────────────────────┼───────────────────┼────────────┼───────────────────┤\n",
              "│ anime_input         │ (\u001b[38;5;45mNone\u001b[0m, \u001b[38;5;34m1\u001b[0m)         │          \u001b[38;5;34m0\u001b[0m │ -                 │\n",
              "│ (\u001b[38;5;33mInputLayer\u001b[0m)        │                   │            │                   │\n",
              "├─────────────────────┼───────────────────┼────────────┼───────────────────┤\n",
              "│ user_embedding      │ (\u001b[38;5;45mNone\u001b[0m, \u001b[38;5;34m1\u001b[0m, \u001b[38;5;34m50\u001b[0m)     │  \u001b[38;5;34m2,760,450\u001b[0m │ user_input[\u001b[38;5;34m0\u001b[0m][\u001b[38;5;34m0\u001b[0m]  │\n",
              "│ (\u001b[38;5;33mEmbedding\u001b[0m)         │                   │            │                   │\n",
              "├─────────────────────┼───────────────────┼────────────┼───────────────────┤\n",
              "│ anime_embedding     │ (\u001b[38;5;45mNone\u001b[0m, \u001b[38;5;34m1\u001b[0m, \u001b[38;5;34m50\u001b[0m)     │    \u001b[38;5;34m375,800\u001b[0m │ anime_input[\u001b[38;5;34m0\u001b[0m][\u001b[38;5;34m0\u001b[0m] │\n",
              "│ (\u001b[38;5;33mEmbedding\u001b[0m)         │                   │            │                   │\n",
              "├─────────────────────┼───────────────────┼────────────┼───────────────────┤\n",
              "│ flatten_4 (\u001b[38;5;33mFlatten\u001b[0m) │ (\u001b[38;5;45mNone\u001b[0m, \u001b[38;5;34m50\u001b[0m)        │          \u001b[38;5;34m0\u001b[0m │ user_embedding[\u001b[38;5;34m0\u001b[0m… │\n",
              "├─────────────────────┼───────────────────┼────────────┼───────────────────┤\n",
              "│ flatten_5 (\u001b[38;5;33mFlatten\u001b[0m) │ (\u001b[38;5;45mNone\u001b[0m, \u001b[38;5;34m50\u001b[0m)        │          \u001b[38;5;34m0\u001b[0m │ anime_embedding[\u001b[38;5;34m…\u001b[0m │\n",
              "├─────────────────────┼───────────────────┼────────────┼───────────────────┤\n",
              "│ concatenate_2       │ (\u001b[38;5;45mNone\u001b[0m, \u001b[38;5;34m100\u001b[0m)       │          \u001b[38;5;34m0\u001b[0m │ flatten_4[\u001b[38;5;34m0\u001b[0m][\u001b[38;5;34m0\u001b[0m],  │\n",
              "│ (\u001b[38;5;33mConcatenate\u001b[0m)       │                   │            │ flatten_5[\u001b[38;5;34m0\u001b[0m][\u001b[38;5;34m0\u001b[0m]   │\n",
              "├─────────────────────┼───────────────────┼────────────┼───────────────────┤\n",
              "│ dense_6 (\u001b[38;5;33mDense\u001b[0m)     │ (\u001b[38;5;45mNone\u001b[0m, \u001b[38;5;34m128\u001b[0m)       │     \u001b[38;5;34m12,928\u001b[0m │ concatenate_2[\u001b[38;5;34m0\u001b[0m]… │\n",
              "├─────────────────────┼───────────────────┼────────────┼───────────────────┤\n",
              "│ dropout_4 (\u001b[38;5;33mDropout\u001b[0m) │ (\u001b[38;5;45mNone\u001b[0m, \u001b[38;5;34m128\u001b[0m)       │          \u001b[38;5;34m0\u001b[0m │ dense_6[\u001b[38;5;34m0\u001b[0m][\u001b[38;5;34m0\u001b[0m]     │\n",
              "├─────────────────────┼───────────────────┼────────────┼───────────────────┤\n",
              "│ dense_7 (\u001b[38;5;33mDense\u001b[0m)     │ (\u001b[38;5;45mNone\u001b[0m, \u001b[38;5;34m64\u001b[0m)        │      \u001b[38;5;34m8,256\u001b[0m │ dropout_4[\u001b[38;5;34m0\u001b[0m][\u001b[38;5;34m0\u001b[0m]   │\n",
              "├─────────────────────┼───────────────────┼────────────┼───────────────────┤\n",
              "│ dropout_5 (\u001b[38;5;33mDropout\u001b[0m) │ (\u001b[38;5;45mNone\u001b[0m, \u001b[38;5;34m64\u001b[0m)        │          \u001b[38;5;34m0\u001b[0m │ dense_7[\u001b[38;5;34m0\u001b[0m][\u001b[38;5;34m0\u001b[0m]     │\n",
              "├─────────────────────┼───────────────────┼────────────┼───────────────────┤\n",
              "│ dense_8 (\u001b[38;5;33mDense\u001b[0m)     │ (\u001b[38;5;45mNone\u001b[0m, \u001b[38;5;34m1\u001b[0m)         │         \u001b[38;5;34m65\u001b[0m │ dropout_5[\u001b[38;5;34m0\u001b[0m][\u001b[38;5;34m0\u001b[0m]   │\n",
              "└─────────────────────┴───────────────────┴────────────┴───────────────────┘\n"
            ],
            "text/html": [
              "<pre style=\"white-space:pre;overflow-x:auto;line-height:normal;font-family:Menlo,'DejaVu Sans Mono',consolas,'Courier New',monospace\">┏━━━━━━━━━━━━━━━━━━━━━┳━━━━━━━━━━━━━━━━━━━┳━━━━━━━━━━━━┳━━━━━━━━━━━━━━━━━━━┓\n",
              "┃<span style=\"font-weight: bold\"> Layer (type)        </span>┃<span style=\"font-weight: bold\"> Output Shape      </span>┃<span style=\"font-weight: bold\">    Param # </span>┃<span style=\"font-weight: bold\"> Connected to      </span>┃\n",
              "┡━━━━━━━━━━━━━━━━━━━━━╇━━━━━━━━━━━━━━━━━━━╇━━━━━━━━━━━━╇━━━━━━━━━━━━━━━━━━━┩\n",
              "│ user_input          │ (<span style=\"color: #00d7ff; text-decoration-color: #00d7ff\">None</span>, <span style=\"color: #00af00; text-decoration-color: #00af00\">1</span>)         │          <span style=\"color: #00af00; text-decoration-color: #00af00\">0</span> │ -                 │\n",
              "│ (<span style=\"color: #0087ff; text-decoration-color: #0087ff\">InputLayer</span>)        │                   │            │                   │\n",
              "├─────────────────────┼───────────────────┼────────────┼───────────────────┤\n",
              "│ anime_input         │ (<span style=\"color: #00d7ff; text-decoration-color: #00d7ff\">None</span>, <span style=\"color: #00af00; text-decoration-color: #00af00\">1</span>)         │          <span style=\"color: #00af00; text-decoration-color: #00af00\">0</span> │ -                 │\n",
              "│ (<span style=\"color: #0087ff; text-decoration-color: #0087ff\">InputLayer</span>)        │                   │            │                   │\n",
              "├─────────────────────┼───────────────────┼────────────┼───────────────────┤\n",
              "│ user_embedding      │ (<span style=\"color: #00d7ff; text-decoration-color: #00d7ff\">None</span>, <span style=\"color: #00af00; text-decoration-color: #00af00\">1</span>, <span style=\"color: #00af00; text-decoration-color: #00af00\">50</span>)     │  <span style=\"color: #00af00; text-decoration-color: #00af00\">2,760,450</span> │ user_input[<span style=\"color: #00af00; text-decoration-color: #00af00\">0</span>][<span style=\"color: #00af00; text-decoration-color: #00af00\">0</span>]  │\n",
              "│ (<span style=\"color: #0087ff; text-decoration-color: #0087ff\">Embedding</span>)         │                   │            │                   │\n",
              "├─────────────────────┼───────────────────┼────────────┼───────────────────┤\n",
              "│ anime_embedding     │ (<span style=\"color: #00d7ff; text-decoration-color: #00d7ff\">None</span>, <span style=\"color: #00af00; text-decoration-color: #00af00\">1</span>, <span style=\"color: #00af00; text-decoration-color: #00af00\">50</span>)     │    <span style=\"color: #00af00; text-decoration-color: #00af00\">375,800</span> │ anime_input[<span style=\"color: #00af00; text-decoration-color: #00af00\">0</span>][<span style=\"color: #00af00; text-decoration-color: #00af00\">0</span>] │\n",
              "│ (<span style=\"color: #0087ff; text-decoration-color: #0087ff\">Embedding</span>)         │                   │            │                   │\n",
              "├─────────────────────┼───────────────────┼────────────┼───────────────────┤\n",
              "│ flatten_4 (<span style=\"color: #0087ff; text-decoration-color: #0087ff\">Flatten</span>) │ (<span style=\"color: #00d7ff; text-decoration-color: #00d7ff\">None</span>, <span style=\"color: #00af00; text-decoration-color: #00af00\">50</span>)        │          <span style=\"color: #00af00; text-decoration-color: #00af00\">0</span> │ user_embedding[<span style=\"color: #00af00; text-decoration-color: #00af00\">0</span>… │\n",
              "├─────────────────────┼───────────────────┼────────────┼───────────────────┤\n",
              "│ flatten_5 (<span style=\"color: #0087ff; text-decoration-color: #0087ff\">Flatten</span>) │ (<span style=\"color: #00d7ff; text-decoration-color: #00d7ff\">None</span>, <span style=\"color: #00af00; text-decoration-color: #00af00\">50</span>)        │          <span style=\"color: #00af00; text-decoration-color: #00af00\">0</span> │ anime_embedding[<span style=\"color: #00af00; text-decoration-color: #00af00\">…</span> │\n",
              "├─────────────────────┼───────────────────┼────────────┼───────────────────┤\n",
              "│ concatenate_2       │ (<span style=\"color: #00d7ff; text-decoration-color: #00d7ff\">None</span>, <span style=\"color: #00af00; text-decoration-color: #00af00\">100</span>)       │          <span style=\"color: #00af00; text-decoration-color: #00af00\">0</span> │ flatten_4[<span style=\"color: #00af00; text-decoration-color: #00af00\">0</span>][<span style=\"color: #00af00; text-decoration-color: #00af00\">0</span>],  │\n",
              "│ (<span style=\"color: #0087ff; text-decoration-color: #0087ff\">Concatenate</span>)       │                   │            │ flatten_5[<span style=\"color: #00af00; text-decoration-color: #00af00\">0</span>][<span style=\"color: #00af00; text-decoration-color: #00af00\">0</span>]   │\n",
              "├─────────────────────┼───────────────────┼────────────┼───────────────────┤\n",
              "│ dense_6 (<span style=\"color: #0087ff; text-decoration-color: #0087ff\">Dense</span>)     │ (<span style=\"color: #00d7ff; text-decoration-color: #00d7ff\">None</span>, <span style=\"color: #00af00; text-decoration-color: #00af00\">128</span>)       │     <span style=\"color: #00af00; text-decoration-color: #00af00\">12,928</span> │ concatenate_2[<span style=\"color: #00af00; text-decoration-color: #00af00\">0</span>]… │\n",
              "├─────────────────────┼───────────────────┼────────────┼───────────────────┤\n",
              "│ dropout_4 (<span style=\"color: #0087ff; text-decoration-color: #0087ff\">Dropout</span>) │ (<span style=\"color: #00d7ff; text-decoration-color: #00d7ff\">None</span>, <span style=\"color: #00af00; text-decoration-color: #00af00\">128</span>)       │          <span style=\"color: #00af00; text-decoration-color: #00af00\">0</span> │ dense_6[<span style=\"color: #00af00; text-decoration-color: #00af00\">0</span>][<span style=\"color: #00af00; text-decoration-color: #00af00\">0</span>]     │\n",
              "├─────────────────────┼───────────────────┼────────────┼───────────────────┤\n",
              "│ dense_7 (<span style=\"color: #0087ff; text-decoration-color: #0087ff\">Dense</span>)     │ (<span style=\"color: #00d7ff; text-decoration-color: #00d7ff\">None</span>, <span style=\"color: #00af00; text-decoration-color: #00af00\">64</span>)        │      <span style=\"color: #00af00; text-decoration-color: #00af00\">8,256</span> │ dropout_4[<span style=\"color: #00af00; text-decoration-color: #00af00\">0</span>][<span style=\"color: #00af00; text-decoration-color: #00af00\">0</span>]   │\n",
              "├─────────────────────┼───────────────────┼────────────┼───────────────────┤\n",
              "│ dropout_5 (<span style=\"color: #0087ff; text-decoration-color: #0087ff\">Dropout</span>) │ (<span style=\"color: #00d7ff; text-decoration-color: #00d7ff\">None</span>, <span style=\"color: #00af00; text-decoration-color: #00af00\">64</span>)        │          <span style=\"color: #00af00; text-decoration-color: #00af00\">0</span> │ dense_7[<span style=\"color: #00af00; text-decoration-color: #00af00\">0</span>][<span style=\"color: #00af00; text-decoration-color: #00af00\">0</span>]     │\n",
              "├─────────────────────┼───────────────────┼────────────┼───────────────────┤\n",
              "│ dense_8 (<span style=\"color: #0087ff; text-decoration-color: #0087ff\">Dense</span>)     │ (<span style=\"color: #00d7ff; text-decoration-color: #00d7ff\">None</span>, <span style=\"color: #00af00; text-decoration-color: #00af00\">1</span>)         │         <span style=\"color: #00af00; text-decoration-color: #00af00\">65</span> │ dropout_5[<span style=\"color: #00af00; text-decoration-color: #00af00\">0</span>][<span style=\"color: #00af00; text-decoration-color: #00af00\">0</span>]   │\n",
              "└─────────────────────┴───────────────────┴────────────┴───────────────────┘\n",
              "</pre>\n"
            ]
          },
          "metadata": {}
        },
        {
          "output_type": "display_data",
          "data": {
            "text/plain": [
              "\u001b[1m Total params: \u001b[0m\u001b[38;5;34m3,157,499\u001b[0m (12.04 MB)\n"
            ],
            "text/html": [
              "<pre style=\"white-space:pre;overflow-x:auto;line-height:normal;font-family:Menlo,'DejaVu Sans Mono',consolas,'Courier New',monospace\"><span style=\"font-weight: bold\"> Total params: </span><span style=\"color: #00af00; text-decoration-color: #00af00\">3,157,499</span> (12.04 MB)\n",
              "</pre>\n"
            ]
          },
          "metadata": {}
        },
        {
          "output_type": "display_data",
          "data": {
            "text/plain": [
              "\u001b[1m Trainable params: \u001b[0m\u001b[38;5;34m3,157,499\u001b[0m (12.04 MB)\n"
            ],
            "text/html": [
              "<pre style=\"white-space:pre;overflow-x:auto;line-height:normal;font-family:Menlo,'DejaVu Sans Mono',consolas,'Courier New',monospace\"><span style=\"font-weight: bold\"> Trainable params: </span><span style=\"color: #00af00; text-decoration-color: #00af00\">3,157,499</span> (12.04 MB)\n",
              "</pre>\n"
            ]
          },
          "metadata": {}
        },
        {
          "output_type": "display_data",
          "data": {
            "text/plain": [
              "\u001b[1m Non-trainable params: \u001b[0m\u001b[38;5;34m0\u001b[0m (0.00 B)\n"
            ],
            "text/html": [
              "<pre style=\"white-space:pre;overflow-x:auto;line-height:normal;font-family:Menlo,'DejaVu Sans Mono',consolas,'Courier New',monospace\"><span style=\"font-weight: bold\"> Non-trainable params: </span><span style=\"color: #00af00; text-decoration-color: #00af00\">0</span> (0.00 B)\n",
              "</pre>\n"
            ]
          },
          "metadata": {}
        }
      ]
    },
    {
      "cell_type": "markdown",
      "source": [
        "#### Training Model"
      ],
      "metadata": {
        "id": "IcuNdVaEeXpR"
      }
    },
    {
      "cell_type": "markdown",
      "source": [
        "- Menggunakan callback & early-stopping untuk menghentikan training saat perbedaan antar epoch di bawah threshold"
      ],
      "metadata": {
        "id": "yujoE4vJF53p"
      }
    },
    {
      "cell_type": "code",
      "source": [
        "from tensorflow.keras.callbacks import EarlyStopping, ReduceLROnPlateau\n",
        "\n",
        "early_stopping = EarlyStopping(\n",
        "    monitor='val_loss',\n",
        "    patience=5,\n",
        "    restore_best_weights=True,\n",
        "    verbose=1\n",
        ")\n",
        "\n",
        "reduce_lr = ReduceLROnPlateau(\n",
        "    monitor='val_loss',\n",
        "    factor=0.2,\n",
        "    patience=3,\n",
        "    min_lr=1e-5,\n",
        "    verbose=1\n",
        ")\n",
        "\n",
        "history = model.fit(\n",
        "    x=[X_train[:, 0], X_train[:, 1]],\n",
        "    y=y_train,\n",
        "    batch_size=1024,\n",
        "    epochs=20,\n",
        "    validation_data=([X_test[:, 0], X_test[:, 1]], y_test),\n",
        "    callbacks=[early_stopping, reduce_lr],\n",
        "    verbose=1\n",
        ")\n",
        "\n",
        "train_loss = history.history['loss']\n",
        "val_loss   = history.history.get('val_loss', [])\n",
        "train_rmse = history.history['rmse']\n",
        "val_rmse   = history.history.get('val_rmse', [])\n",
        "\n",
        "epochs = range(1, len(train_loss) + 1)\n",
        "\n",
        "plt.figure(figsize=(12, 5))\n",
        "\n",
        "plt.subplot(1, 2, 1)\n",
        "plt.plot(epochs, train_loss, label='Training Loss (MSE)')\n",
        "if val_loss:\n",
        "    plt.plot(epochs, val_loss, label='Validation Loss (MSE)')\n",
        "plt.title('MSE Loss per Epoch')\n",
        "plt.xlabel('Epoch')\n",
        "plt.ylabel('MSE Loss')\n",
        "plt.legend()\n",
        "\n",
        "plt.subplot(1, 2, 2)\n",
        "plt.plot(epochs, train_rmse, label='Training RMSE')\n",
        "if val_rmse:\n",
        "    plt.plot(epochs, val_rmse, label='Validation RMSE')\n",
        "plt.title('RMSE per Epoch')\n",
        "plt.xlabel('Epoch')\n",
        "plt.ylabel('RMSE')\n",
        "plt.legend()\n",
        "\n",
        "plt.tight_layout()\n",
        "plt.show()"
      ],
      "metadata": {
        "colab": {
          "base_uri": "https://localhost:8080/",
          "height": 981
        },
        "id": "NchQc4q6eXZO",
        "outputId": "2e190d64-b844-4476-fb5e-0073ca4a4783"
      },
      "execution_count": 33,
      "outputs": [
        {
          "output_type": "stream",
          "name": "stdout",
          "text": [
            "Epoch 1/20\n",
            "\u001b[1m391/391\u001b[0m \u001b[32m━━━━━━━━━━━━━━━━━━━━\u001b[0m\u001b[37m\u001b[0m \u001b[1m22s\u001b[0m 50ms/step - loss: 22.0891 - rmse: 4.4505 - val_loss: 1.8119 - val_rmse: 1.3451 - learning_rate: 0.0010\n",
            "Epoch 2/20\n",
            "\u001b[1m391/391\u001b[0m \u001b[32m━━━━━━━━━━━━━━━━━━━━\u001b[0m\u001b[37m\u001b[0m \u001b[1m20s\u001b[0m 51ms/step - loss: 2.2302 - rmse: 1.4925 - val_loss: 1.6837 - val_rmse: 1.2964 - learning_rate: 0.0010\n",
            "Epoch 3/20\n",
            "\u001b[1m391/391\u001b[0m \u001b[32m━━━━━━━━━━━━━━━━━━━━\u001b[0m\u001b[37m\u001b[0m \u001b[1m20s\u001b[0m 49ms/step - loss: 2.0288 - rmse: 1.4232 - val_loss: 1.6588 - val_rmse: 1.2865 - learning_rate: 0.0010\n",
            "Epoch 4/20\n",
            "\u001b[1m391/391\u001b[0m \u001b[32m━━━━━━━━━━━━━━━━━━━━\u001b[0m\u001b[37m\u001b[0m \u001b[1m21s\u001b[0m 53ms/step - loss: 1.9675 - rmse: 1.4013 - val_loss: 1.6570 - val_rmse: 1.2856 - learning_rate: 0.0010\n",
            "Epoch 5/20\n",
            "\u001b[1m391/391\u001b[0m \u001b[32m━━━━━━━━━━━━━━━━━━━━\u001b[0m\u001b[37m\u001b[0m \u001b[1m19s\u001b[0m 48ms/step - loss: 1.9213 - rmse: 1.3845 - val_loss: 1.6576 - val_rmse: 1.2855 - learning_rate: 0.0010\n",
            "Epoch 6/20\n",
            "\u001b[1m391/391\u001b[0m \u001b[32m━━━━━━━━━━━━━━━━━━━━\u001b[0m\u001b[37m\u001b[0m \u001b[1m20s\u001b[0m 51ms/step - loss: 1.8733 - rmse: 1.3668 - val_loss: 1.6427 - val_rmse: 1.2795 - learning_rate: 0.0010\n",
            "Epoch 7/20\n",
            "\u001b[1m391/391\u001b[0m \u001b[32m━━━━━━━━━━━━━━━━━━━━\u001b[0m\u001b[37m\u001b[0m \u001b[1m19s\u001b[0m 48ms/step - loss: 1.8052 - rmse: 1.3414 - val_loss: 1.6612 - val_rmse: 1.2864 - learning_rate: 0.0010\n",
            "Epoch 8/20\n",
            "\u001b[1m391/391\u001b[0m \u001b[32m━━━━━━━━━━━━━━━━━━━━\u001b[0m\u001b[37m\u001b[0m \u001b[1m19s\u001b[0m 49ms/step - loss: 1.7599 - rmse: 1.3241 - val_loss: 1.6935 - val_rmse: 1.2987 - learning_rate: 0.0010\n",
            "Epoch 9/20\n",
            "\u001b[1m391/391\u001b[0m \u001b[32m━━━━━━━━━━━━━━━━━━━━\u001b[0m\u001b[37m\u001b[0m \u001b[1m0s\u001b[0m 50ms/step - loss: 1.7115 - rmse: 1.3055\n",
            "Epoch 9: ReduceLROnPlateau reducing learning rate to 0.00020000000949949026.\n",
            "\u001b[1m391/391\u001b[0m \u001b[32m━━━━━━━━━━━━━━━━━━━━\u001b[0m\u001b[37m\u001b[0m \u001b[1m22s\u001b[0m 54ms/step - loss: 1.7116 - rmse: 1.3055 - val_loss: 1.6764 - val_rmse: 1.2918 - learning_rate: 0.0010\n",
            "Epoch 10/20\n",
            "\u001b[1m391/391\u001b[0m \u001b[32m━━━━━━━━━━━━━━━━━━━━\u001b[0m\u001b[37m\u001b[0m \u001b[1m38s\u001b[0m 47ms/step - loss: 1.6169 - rmse: 1.2685 - val_loss: 1.7087 - val_rmse: 1.3042 - learning_rate: 2.0000e-04\n",
            "Epoch 11/20\n",
            "\u001b[1m391/391\u001b[0m \u001b[32m━━━━━━━━━━━━━━━━━━━━\u001b[0m\u001b[37m\u001b[0m \u001b[1m20s\u001b[0m 50ms/step - loss: 1.5809 - rmse: 1.2543 - val_loss: 1.7035 - val_rmse: 1.3022 - learning_rate: 2.0000e-04\n",
            "Epoch 11: early stopping\n",
            "Restoring model weights from the end of the best epoch: 6.\n"
          ]
        },
        {
          "output_type": "display_data",
          "data": {
            "text/plain": [
              "<Figure size 1200x500 with 2 Axes>"
            ],
            "image/png": "[encoded data removed]"
          },
          "metadata": {}
        }
      ]
    },
    {
      "cell_type": "markdown",
      "source": [
        "**Insight:**\n",
        "- Model terbaik yang dihasilkan dengan nilai RMSE terbaik adalah pada epoch ke-6 dengan skor RMSE Training = 1.3668 dan RMSE Validation = 1.2795. Hasil ini mungkin bukan yang terbaik berhubung skor ada di atas 1 namun ini masih cukup memadai"
      ],
      "metadata": {
        "id": "F4CfyCDDV3wp"
      }
    },
    {
      "cell_type": "markdown",
      "source": [
        "## Evaluation"
      ],
      "metadata": {
        "id": "w3pY1EmccQo8"
      }
    },
    {
      "cell_type": "markdown",
      "source": [
        "### Model 1: Content Based Filtering (CBF)"
      ],
      "metadata": {
        "id": "_LYnwQaMcfPG"
      }
    },
    {
      "cell_type": "markdown",
      "source": [
        "Rekomendasi berdasarkan judul anime"
      ],
      "metadata": {
        "id": "NtdnAusJ1Bl1"
      }
    },
    {
      "cell_type": "code",
      "source": [
        "print(recommend_by_title('Fullmetal Alchemist', clean_anime, cosine_sim))"
      ],
      "metadata": {
        "colab": {
          "base_uri": "https://localhost:8080/"
        },
        "id": "zOcdXRss1BSD",
        "outputId": "0e16ba70-d30f-4b25-fb99-47bff6eb99af"
      },
      "execution_count": 23,
      "outputs": [
        {
          "output_type": "stream",
          "name": "stdout",
          "text": [
            "\n",
            "Rekomendasi untuk 'Fullmetal Alchemist':\n",
            "====================================================================================================\n",
            "No. Judul Anime                                       Similarity     Genre Match\n",
            "----------------------------------------------------------------------------------------------------\n",
            "1   Fullmetal Alchemist: The Sacred Star of Milos     1.0000          ✓\n",
            "2   Fullmetal Alchemist: Brotherhood                  0.9735          ✓\n",
            "3   Fullmetal Alchemist: Brotherhood Specials         0.9302          ✓\n",
            "4   Tales of Vesperia: The First Strike               0.8515          ✓\n",
            "5   Fullmetal Alchemist: Reflections                  0.8511          ✓\n",
            "6   Tide-Line Blue                                    0.8108          ✓\n",
            "7   Fairy Tail (2014)                                 0.7975          ✓\n",
            "8   Fairy Tail                                        0.7975          ✓\n",
            "9   Fairy Tail Movie 1: Houou no Miko                 0.7975          ✓\n",
            "10  Fairy Tail x Rave                                 0.7975          ✓\n",
            "====================================================================================================\n",
            "Rata-rata Similarity : 0.8607\n",
            "Precision@10     : 100.00%\n",
            "None\n"
          ]
        }
      ]
    },
    {
      "cell_type": "markdown",
      "source": [
        "Rekomendasi berdasarkan genre anime"
      ],
      "metadata": {
        "id": "3m9mYarIIrLX"
      }
    },
    {
      "cell_type": "code",
      "source": [
        "print(recommend_by_genre('Action', clean_anime, cosine_sim))"
      ],
      "metadata": {
        "colab": {
          "base_uri": "https://localhost:8080/"
        },
        "id": "NPH_Qx0vIra6",
        "outputId": "5411783d-7eb3-4e14-c840-b1eb52dc46a4"
      },
      "execution_count": 24,
      "outputs": [
        {
          "output_type": "stream",
          "name": "stdout",
          "text": [
            "\n",
            "Rekomendasi untuk genre: 'action':\n",
            "====================================================================================================\n",
            "No. Judul Anime                                       Similarity     Genre Match\n",
            "----------------------------------------------------------------------------------------------------\n",
            "1   Fullmetal Alchemist                               0.9735          ✓\n",
            "2   Fullmetal Alchemist: The Sacred Star of Milos     0.9735          ✓\n",
            "3   Fullmetal Alchemist: Brotherhood Specials         0.9555          ✓\n",
            "4   Tales of Vesperia: The First Strike               0.8747          ✓\n",
            "5   Tide-Line Blue                                    0.8329          ✓\n",
            "6   Fullmetal Alchemist: Reflections                  0.8112          ✓\n",
            "7   Magi: The Kingdom of Magic                        0.7848          ✓\n",
            "8   Magi: The Labyrinth of Magic                      0.7848          ✓\n",
            "9   Magi: Sinbad no Bouken (TV)                       0.7848          ✓\n",
            "10  Magi: Sinbad no Bouken                            0.7848          ✓\n",
            "====================================================================================================\n",
            "Rata-rata Similarity: 0.8560 | Precision@10: 100.00%\n",
            "Anime perwakilan: Fullmetal Alchemist: Brotherhood\n",
            "None\n"
          ]
        }
      ]
    },
    {
      "cell_type": "markdown",
      "source": [
        "**Insight:**\n",
        "- Dari hasil evaluasi pada kedua pendekatan model content based filtering (CBF). Dapat disimpulkan bahwa model sudah cukup memadai dengan skor kemiripan umumnya > 0.75 pada tingkat terendah dari 10 entri. Serta nilai precision at K=10 yang konsisten 100%"
      ],
      "metadata": {
        "id": "x06oVpBvRYIO"
      }
    },
    {
      "cell_type": "markdown",
      "source": [
        "### Model 2: Collaborative Filtering (CF)"
      ],
      "metadata": {
        "id": "aQ06oDoWPHUC"
      }
    },
    {
      "cell_type": "markdown",
      "source": [
        "Tampil rekomendasi top-n\n",
        "- Rekomendasi diambil dari anime yang belum ditonton oleh user lalu diurutkan berdasarkan nilai prediksi rating user tertinggi"
      ],
      "metadata": {
        "id": "Q4R3-2T6KVge"
      }
    },
    {
      "cell_type": "code",
      "source": [
        "def recommend_for_user(user_id, model, anime_df, top_n=10):\n",
        "    if user_id not in user_id_to_idx:\n",
        "        return f\"User ID {user_id} tidak ditemukan\"\n",
        "\n",
        "    user_idx = user_id_to_idx[user_id]\n",
        "\n",
        "    rated_anime = ratings_df[ratings_df['user_id'] == user_id]['anime_id'].unique()\n",
        "    all_anime = anime_df['anime_id'].unique()\n",
        "    unrated_anime = [aid for aid in all_anime if aid not in rated_anime]\n",
        "\n",
        "    if not unrated_anime:\n",
        "        return \"Tidak ada anime baru untuk direkomendasikan\"\n",
        "\n",
        "    unrated_anime_idx = [anime_id_to_idx[aid] for aid in unrated_anime if aid in anime_id_to_idx]\n",
        "\n",
        "    user_array = np.array([user_idx] * len(unrated_anime_idx))\n",
        "    anime_array = np.array(unrated_anime_idx)\n",
        "\n",
        "    predictions = model.predict([user_array, anime_array], verbose=0).flatten()\n",
        "\n",
        "    top_indices = np.argsort(predictions)[-top_n:][::-1]\n",
        "\n",
        "    recommendations = []\n",
        "    for rank_idx, idx in enumerate(top_indices, start=1):\n",
        "        anime_id = unrated_anime[idx]\n",
        "        anime_info = anime_df[anime_df['anime_id'] == anime_id].iloc[0]\n",
        "        recommendations.append({\n",
        "            'rank': rank_idx,\n",
        "            'anime_id': anime_id,\n",
        "            'title': anime_info['name'],\n",
        "            'genre': anime_info['genre'],\n",
        "            'predicted_rating': predictions[idx],\n",
        "            'global_rating': anime_info['rating']\n",
        "        })\n",
        "\n",
        "    print(f\"\\nRekomendasi untuk User {user_id}:\")\n",
        "    print(\"=\" * 100)\n",
        "    header = f\"{'No.':<4} {'Judul Anime':<50} {'Predicted':<10} {'Global':<8} {'Genre'}\"\n",
        "    print(header)\n",
        "    print(\"-\" * 100)\n",
        "    for rec in recommendations:\n",
        "        title = rec['title']\n",
        "        if len(title) > 47:\n",
        "            title_display = title[:47] + \"...\"\n",
        "        else:\n",
        "            title_display = title\n",
        "\n",
        "        print(f\"{rec['rank']:<4} \"\n",
        "              f\"{title_display:<50} \"\n",
        "              f\"{rec['predicted_rating']:<10.4f} \"\n",
        "              f\"{rec['global_rating']:<8.2f} \"\n",
        "              f\"{rec['genre']}\")\n",
        "    print(\"=\" * 100)\n",
        "\n",
        "user_id = clean_ratings['user_id'].sample(1).iloc[0]\n",
        "recommendations_df = recommend_for_user(user_id, model, clean_anime)"
      ],
      "metadata": {
        "colab": {
          "base_uri": "https://localhost:8080/"
        },
        "id": "C18qymmsjRZr",
        "outputId": "345dc152-b753-4d65-d147-b52eee537cde"
      },
      "execution_count": 34,
      "outputs": [
        {
          "output_type": "stream",
          "name": "stdout",
          "text": [
            "\n",
            "Rekomendasi untuk User 49503:\n",
            "====================================================================================================\n",
            "No.  Judul Anime                                        Predicted  Global   Genre\n",
            "----------------------------------------------------------------------------------------------------\n",
            "1    Ginga Eiyuu Densetsu                               9.3472     9.11     Drama, Military, Sci-Fi, Space\n",
            "2    Gintama°                                           9.2306     9.25     Action, Comedy, Historical, Parody, Samurai, Sci-Fi, Shounen\n",
            "3    Haikyuu!!: Karasuno Koukou VS Shiratorizawa Gak... 9.0693     9.15     Comedy, Drama, School, Shounen, Sports\n",
            "4    Fullmetal Alchemist: Brotherhood                   8.9858     9.26     Action, Adventure, Drama, Fantasy, Magic, Military, Shounen\n",
            "5    Gintama&#039;: Enchousen                           8.8982     9.11     Action, Comedy, Historical, Parody, Samurai, Sci-Fi, Shounen\n",
            "6    Qin Shiming Yue Zhi: Zhu Zi Bai Jia                8.8745     7.49     Action, Fantasy, Historical, Martial Arts\n",
            "7    Gintama Movie: Kanketsu-hen - Yorozuya yo Eien ... 8.8731     9.10     Action, Comedy, Historical, Parody, Samurai, Sci-Fi, Shounen\n",
            "8    Gintama                                            8.8293     9.04     Action, Comedy, Historical, Parody, Samurai, Sci-Fi, Shounen\n",
            "9    Haikyuu!! Second Season                            8.8183     8.93     Comedy, Drama, School, Shounen, Sports\n",
            "10   Hellsing Ultimate                                  8.8055     8.59     Action, Horror, Military, Seinen, Supernatural, Vampire\n",
            "====================================================================================================\n"
          ]
        }
      ]
    },
    {
      "cell_type": "markdown",
      "source": [
        "**Insight:**\n",
        "- Berdasarkan hasil sampel user 49503, sistem dapat merekomendasikan 10 anime yang diurut berdasarkan prediksi rating anime tersebut dengan apa yang diberi rating tinggi oleh user. Dapat diambil kesimpulan bahwa user id 49503 menyukai genre anime shounen dengan judul dan genre yang serupa pada list."
      ],
      "metadata": {
        "id": "-uvvI5QxUz8f"
      }
    }
  ]
}